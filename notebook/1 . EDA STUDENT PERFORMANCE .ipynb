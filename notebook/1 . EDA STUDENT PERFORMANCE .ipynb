{
 "cells": [
  {
   "attachments": {},
   "cell_type": "markdown",
   "id": "1e233234",
   "metadata": {},
   "source": [
    "## Student Performance Indicator\n"
   ]
  },
  {
   "cell_type": "markdown",
   "id": "62e05101",
   "metadata": {},
   "source": [
    "#### Life cycle of Machine learning Project\n",
    "\n",
    "- Understanding the Problem Statement\n",
    "- Data Collection\n",
    "- Data Checks to perform\n",
    "- Exploratory data analysis\n",
    "- Data Pre-Processing\n",
    "- Model Training\n",
    "- Choose best model"
   ]
  },
  {
   "cell_type": "markdown",
   "id": "dfcea981",
   "metadata": {},
   "source": [
    "### 1) Problem statement\n",
    "- This project understands how the student's performance (test scores) is affected by other variables such as Gender, Ethnicity, Parental level of education, Lunch and Test preparation course.\n",
    "\n",
    "\n",
    "### 2) Data Collection\n",
    "- Dataset Source - https://www.kaggle.com/datasets/spscientist/students-performance-in-exams?datasetId=74977\n",
    "- The data consists of 8 column and 1000 rows."
   ]
  },
  {
   "cell_type": "markdown",
   "id": "15b1355f",
   "metadata": {},
   "source": [
    "### 2.1 Import Data and Required Packages\n",
    "####  Importing Pandas, Numpy, Matplotlib, Seaborn and Warings Library."
   ]
  },
  {
   "cell_type": "code",
   "execution_count": 137,
   "id": "7eaae1d7",
   "metadata": {},
   "outputs": [],
   "source": [
    "import numpy as np\n",
    "import pandas as pd\n",
    "import seaborn as sns\n",
    "import matplotlib.pyplot as plt\n",
    "%matplotlib inline\n",
    "import warnings\n",
    "warnings.filterwarnings('ignore')"
   ]
  },
  {
   "cell_type": "code",
   "execution_count": 170,
   "id": "097ef2b2",
   "metadata": {},
   "outputs": [],
   "source": [
    "A = {\n",
    "\n",
    "                \"gender\" : ['female'],\n",
    "                \"race_ethnicity\": ['group C'],\n",
    "                \"parental_level_of_education\": [\"bachelor's degree\"],\n",
    "                \"lunch\": ['standard'],\n",
    "                \"test_preparation_course\": ['completed'],\n",
    "                \"writing_score\": [88],\n",
    "                \"reading_score\": [90],\n",
    "}"
   ]
  },
  {
   "cell_type": "code",
   "execution_count": 171,
   "id": "1b22b10d",
   "metadata": {},
   "outputs": [
    {
     "data": {
      "text/html": [
       "<div>\n",
       "<style scoped>\n",
       "    .dataframe tbody tr th:only-of-type {\n",
       "        vertical-align: middle;\n",
       "    }\n",
       "\n",
       "    .dataframe tbody tr th {\n",
       "        vertical-align: top;\n",
       "    }\n",
       "\n",
       "    .dataframe thead th {\n",
       "        text-align: right;\n",
       "    }\n",
       "</style>\n",
       "<table border=\"1\" class=\"dataframe\">\n",
       "  <thead>\n",
       "    <tr style=\"text-align: right;\">\n",
       "      <th></th>\n",
       "      <th>gender</th>\n",
       "      <th>race_ethnicity</th>\n",
       "      <th>parental_level_of_education</th>\n",
       "      <th>lunch</th>\n",
       "      <th>test_preparation_course</th>\n",
       "      <th>writing_score</th>\n",
       "      <th>reading_score</th>\n",
       "    </tr>\n",
       "  </thead>\n",
       "  <tbody>\n",
       "    <tr>\n",
       "      <th>0</th>\n",
       "      <td>female</td>\n",
       "      <td>group C</td>\n",
       "      <td>bachelor's degree</td>\n",
       "      <td>standard</td>\n",
       "      <td>completed</td>\n",
       "      <td>88</td>\n",
       "      <td>90</td>\n",
       "    </tr>\n",
       "  </tbody>\n",
       "</table>\n",
       "</div>"
      ],
      "text/plain": [
       "   gender race_ethnicity parental_level_of_education     lunch  \\\n",
       "0  female        group C           bachelor's degree  standard   \n",
       "\n",
       "  test_preparation_course  writing_score  reading_score  \n",
       "0               completed             88             90  "
      ]
     },
     "execution_count": 171,
     "metadata": {},
     "output_type": "execute_result"
    }
   ],
   "source": [
    "DF = pd.DataFrame(A)\n",
    "DF"
   ]
  },
  {
   "cell_type": "code",
   "execution_count": 140,
   "id": "7bf83beb",
   "metadata": {},
   "outputs": [],
   "source": [
    "from src.utils import load_object\n",
    "import os"
   ]
  },
  {
   "cell_type": "code",
   "execution_count": 179,
   "id": "9f4d28ec",
   "metadata": {},
   "outputs": [],
   "source": [
    "\n",
    "pre=load_object(r'C:\\Users\\Swamesh\\Desktop\\UDemy\\KrishNaik\\MLProject1\\artifact\\preprocessor.pkl')\n",
    "mod = load_object(r'C:\\Users\\Swamesh\\Desktop\\UDemy\\KrishNaik\\MLProject1\\artifact\\model.pkl')"
   ]
  },
  {
   "cell_type": "code",
   "execution_count": 180,
   "id": "15ea8e4b",
   "metadata": {},
   "outputs": [
    {
     "data": {
      "text/plain": [
       "array([[1.29635617, 1.4146351 , 2.00276196, 0.        , 0.        ,\n",
       "        0.        , 2.13504205, 0.        , 0.        , 0.        ,\n",
       "        3.07728727, 0.        , 0.        , 0.        , 0.        ,\n",
       "        0.        , 2.10183809, 2.09830697, 0.        ]])"
      ]
     },
     "execution_count": 180,
     "metadata": {},
     "output_type": "execute_result"
    }
   ],
   "source": [
    "data_scaled = pre.transform(DF)\n",
    "data_scaled"
   ]
  },
  {
   "cell_type": "code",
   "execution_count": 182,
   "id": "e1860d75",
   "metadata": {},
   "outputs": [],
   "source": [
    "num_features = pre.transformers_[0][2]\n",
    "cat_features = pre.transformers_[1][2]\n",
    "cat_encoder = pre.named_transformers_['categorical_pipeline']\n",
    "cat_columns = cat_encoder.get_feature_names_out(cat_features)\n",
    "column_names = num_features + cat_columns.tolist()"
   ]
  },
  {
   "cell_type": "code",
   "execution_count": 183,
   "id": "de81453d",
   "metadata": {},
   "outputs": [],
   "source": [
    "R = pd.DataFrame(data_scaled,columns=column_names)"
   ]
  },
  {
   "cell_type": "code",
   "execution_count": 184,
   "id": "e52c2ca3",
   "metadata": {},
   "outputs": [
    {
     "data": {
      "text/html": [
       "<div>\n",
       "<style scoped>\n",
       "    .dataframe tbody tr th:only-of-type {\n",
       "        vertical-align: middle;\n",
       "    }\n",
       "\n",
       "    .dataframe tbody tr th {\n",
       "        vertical-align: top;\n",
       "    }\n",
       "\n",
       "    .dataframe thead th {\n",
       "        text-align: right;\n",
       "    }\n",
       "</style>\n",
       "<table border=\"1\" class=\"dataframe\">\n",
       "  <thead>\n",
       "    <tr style=\"text-align: right;\">\n",
       "      <th></th>\n",
       "      <th>writing_score</th>\n",
       "      <th>reading_score</th>\n",
       "      <th>gender_female</th>\n",
       "      <th>gender_male</th>\n",
       "      <th>race_ethnicity_group A</th>\n",
       "      <th>race_ethnicity_group B</th>\n",
       "      <th>race_ethnicity_group C</th>\n",
       "      <th>race_ethnicity_group D</th>\n",
       "      <th>race_ethnicity_group E</th>\n",
       "      <th>parental_level_of_education_associate's degree</th>\n",
       "      <th>parental_level_of_education_bachelor's degree</th>\n",
       "      <th>parental_level_of_education_high school</th>\n",
       "      <th>parental_level_of_education_master's degree</th>\n",
       "      <th>parental_level_of_education_some college</th>\n",
       "      <th>parental_level_of_education_some high school</th>\n",
       "      <th>lunch_free/reduced</th>\n",
       "      <th>lunch_standard</th>\n",
       "      <th>test_preparation_course_completed</th>\n",
       "      <th>test_preparation_course_none</th>\n",
       "    </tr>\n",
       "  </thead>\n",
       "  <tbody>\n",
       "    <tr>\n",
       "      <th>0</th>\n",
       "      <td>1.296356</td>\n",
       "      <td>1.414635</td>\n",
       "      <td>2.002762</td>\n",
       "      <td>0.0</td>\n",
       "      <td>0.0</td>\n",
       "      <td>0.0</td>\n",
       "      <td>2.135042</td>\n",
       "      <td>0.0</td>\n",
       "      <td>0.0</td>\n",
       "      <td>0.0</td>\n",
       "      <td>3.077287</td>\n",
       "      <td>0.0</td>\n",
       "      <td>0.0</td>\n",
       "      <td>0.0</td>\n",
       "      <td>0.0</td>\n",
       "      <td>0.0</td>\n",
       "      <td>2.101838</td>\n",
       "      <td>2.098307</td>\n",
       "      <td>0.0</td>\n",
       "    </tr>\n",
       "  </tbody>\n",
       "</table>\n",
       "</div>"
      ],
      "text/plain": [
       "   writing_score  reading_score  gender_female  gender_male  \\\n",
       "0       1.296356       1.414635       2.002762          0.0   \n",
       "\n",
       "   race_ethnicity_group A  race_ethnicity_group B  race_ethnicity_group C  \\\n",
       "0                     0.0                     0.0                2.135042   \n",
       "\n",
       "   race_ethnicity_group D  race_ethnicity_group E  \\\n",
       "0                     0.0                     0.0   \n",
       "\n",
       "   parental_level_of_education_associate's degree  \\\n",
       "0                                             0.0   \n",
       "\n",
       "   parental_level_of_education_bachelor's degree  \\\n",
       "0                                       3.077287   \n",
       "\n",
       "   parental_level_of_education_high school  \\\n",
       "0                                      0.0   \n",
       "\n",
       "   parental_level_of_education_master's degree  \\\n",
       "0                                          0.0   \n",
       "\n",
       "   parental_level_of_education_some college  \\\n",
       "0                                       0.0   \n",
       "\n",
       "   parental_level_of_education_some high school  lunch_free/reduced  \\\n",
       "0                                           0.0                 0.0   \n",
       "\n",
       "   lunch_standard  test_preparation_course_completed  \\\n",
       "0        2.101838                           2.098307   \n",
       "\n",
       "   test_preparation_course_none  \n",
       "0                           0.0  "
      ]
     },
     "execution_count": 184,
     "metadata": {},
     "output_type": "execute_result"
    }
   ],
   "source": [
    "R"
   ]
  },
  {
   "cell_type": "code",
   "execution_count": 185,
   "id": "f28b50e9",
   "metadata": {},
   "outputs": [
    {
     "data": {
      "text/plain": [
       "array([77.38640939])"
      ]
     },
     "execution_count": 185,
     "metadata": {},
     "output_type": "execute_result"
    }
   ],
   "source": [
    "mod.predict(R)"
   ]
  },
  {
   "cell_type": "markdown",
   "id": "3caeb0bb",
   "metadata": {},
   "source": [
    "#### Import the CSV Data as Pandas DataFrame"
   ]
  },
  {
   "cell_type": "code",
   "execution_count": 168,
   "id": "57907087",
   "metadata": {},
   "outputs": [],
   "source": [
    "df = pd.read_csv('data/stud.csv')"
   ]
  },
  {
   "cell_type": "markdown",
   "id": "92c8fd8a",
   "metadata": {},
   "source": [
    "#### Show Top 5 Records"
   ]
  },
  {
   "cell_type": "code",
   "execution_count": 169,
   "id": "7d1a2a0b",
   "metadata": {},
   "outputs": [
    {
     "data": {
      "text/html": [
       "<div>\n",
       "<style scoped>\n",
       "    .dataframe tbody tr th:only-of-type {\n",
       "        vertical-align: middle;\n",
       "    }\n",
       "\n",
       "    .dataframe tbody tr th {\n",
       "        vertical-align: top;\n",
       "    }\n",
       "\n",
       "    .dataframe thead th {\n",
       "        text-align: right;\n",
       "    }\n",
       "</style>\n",
       "<table border=\"1\" class=\"dataframe\">\n",
       "  <thead>\n",
       "    <tr style=\"text-align: right;\">\n",
       "      <th></th>\n",
       "      <th>gender</th>\n",
       "      <th>race_ethnicity</th>\n",
       "      <th>parental_level_of_education</th>\n",
       "      <th>lunch</th>\n",
       "      <th>test_preparation_course</th>\n",
       "      <th>math_score</th>\n",
       "      <th>reading_score</th>\n",
       "      <th>writing_score</th>\n",
       "    </tr>\n",
       "  </thead>\n",
       "  <tbody>\n",
       "    <tr>\n",
       "      <th>0</th>\n",
       "      <td>female</td>\n",
       "      <td>group B</td>\n",
       "      <td>bachelor's degree</td>\n",
       "      <td>standard</td>\n",
       "      <td>none</td>\n",
       "      <td>72</td>\n",
       "      <td>72</td>\n",
       "      <td>74</td>\n",
       "    </tr>\n",
       "    <tr>\n",
       "      <th>1</th>\n",
       "      <td>female</td>\n",
       "      <td>group C</td>\n",
       "      <td>some college</td>\n",
       "      <td>standard</td>\n",
       "      <td>completed</td>\n",
       "      <td>69</td>\n",
       "      <td>90</td>\n",
       "      <td>88</td>\n",
       "    </tr>\n",
       "    <tr>\n",
       "      <th>2</th>\n",
       "      <td>female</td>\n",
       "      <td>group B</td>\n",
       "      <td>master's degree</td>\n",
       "      <td>standard</td>\n",
       "      <td>none</td>\n",
       "      <td>90</td>\n",
       "      <td>95</td>\n",
       "      <td>93</td>\n",
       "    </tr>\n",
       "    <tr>\n",
       "      <th>3</th>\n",
       "      <td>male</td>\n",
       "      <td>group A</td>\n",
       "      <td>associate's degree</td>\n",
       "      <td>free/reduced</td>\n",
       "      <td>none</td>\n",
       "      <td>47</td>\n",
       "      <td>57</td>\n",
       "      <td>44</td>\n",
       "    </tr>\n",
       "    <tr>\n",
       "      <th>4</th>\n",
       "      <td>male</td>\n",
       "      <td>group C</td>\n",
       "      <td>some college</td>\n",
       "      <td>standard</td>\n",
       "      <td>none</td>\n",
       "      <td>76</td>\n",
       "      <td>78</td>\n",
       "      <td>75</td>\n",
       "    </tr>\n",
       "  </tbody>\n",
       "</table>\n",
       "</div>"
      ],
      "text/plain": [
       "   gender race_ethnicity parental_level_of_education         lunch  \\\n",
       "0  female        group B           bachelor's degree      standard   \n",
       "1  female        group C                some college      standard   \n",
       "2  female        group B             master's degree      standard   \n",
       "3    male        group A          associate's degree  free/reduced   \n",
       "4    male        group C                some college      standard   \n",
       "\n",
       "  test_preparation_course  math_score  reading_score  writing_score  \n",
       "0                    none          72             72             74  \n",
       "1               completed          69             90             88  \n",
       "2                    none          90             95             93  \n",
       "3                    none          47             57             44  \n",
       "4                    none          76             78             75  "
      ]
     },
     "execution_count": 169,
     "metadata": {},
     "output_type": "execute_result"
    }
   ],
   "source": [
    "df.head()"
   ]
  },
  {
   "cell_type": "markdown",
   "id": "56a49220",
   "metadata": {},
   "source": [
    "#### Shape of the dataset"
   ]
  },
  {
   "cell_type": "code",
   "execution_count": null,
   "id": "417e5820",
   "metadata": {},
   "outputs": [],
   "source": [
    "df.shape"
   ]
  },
  {
   "cell_type": "markdown",
   "id": "041aa39d",
   "metadata": {},
   "source": [
    "### 2.2 Dataset information"
   ]
  },
  {
   "cell_type": "markdown",
   "id": "7e3cff9d",
   "metadata": {},
   "source": [
    "- gender : sex of students  -> (Male/female)\n",
    "- race/ethnicity : ethnicity of students -> (Group A, B,C, D,E)\n",
    "- parental level of education : parents' final education ->(bachelor's degree,some college,master's degree,associate's degree,high school)\n",
    "- lunch : having lunch before test (standard or free/reduced) \n",
    "- test preparation course : complete or not complete before test\n",
    "- math score\n",
    "- reading score\n",
    "- writing score"
   ]
  },
  {
   "cell_type": "markdown",
   "id": "27c4b61b",
   "metadata": {},
   "source": [
    "### 3. Data Checks to perform\n",
    "\n",
    "- Check Missing values\n",
    "- Check Duplicates\n",
    "- Check data type\n",
    "- Check the number of unique values of each column\n",
    "- Check statistics of data set\n",
    "- Check various categories present in the different categorical column"
   ]
  },
  {
   "cell_type": "markdown",
   "id": "c31d4123",
   "metadata": {},
   "source": [
    "### 3.1 Check Missing values"
   ]
  },
  {
   "cell_type": "code",
   "execution_count": null,
   "id": "707d6a7b",
   "metadata": {},
   "outputs": [],
   "source": [
    "df.isna().sum()"
   ]
  },
  {
   "cell_type": "markdown",
   "id": "ce8f7b83",
   "metadata": {},
   "source": [
    "#### There are no missing values in the data set"
   ]
  },
  {
   "cell_type": "markdown",
   "id": "5840ff7f",
   "metadata": {},
   "source": [
    "### 3.2 Check Duplicates"
   ]
  },
  {
   "cell_type": "code",
   "execution_count": null,
   "id": "ae16686e",
   "metadata": {},
   "outputs": [],
   "source": [
    "df.duplicated().sum()"
   ]
  },
  {
   "cell_type": "markdown",
   "id": "e5d7ae8e",
   "metadata": {},
   "source": [
    "#### There are no duplicates  values in the data set"
   ]
  },
  {
   "cell_type": "markdown",
   "id": "30dfacc8",
   "metadata": {},
   "source": [
    "### 3.3 Check data types"
   ]
  },
  {
   "cell_type": "code",
   "execution_count": null,
   "id": "25f95bc8",
   "metadata": {},
   "outputs": [],
   "source": [
    "# Check Null and Dtypes\n",
    "df.info()"
   ]
  },
  {
   "cell_type": "markdown",
   "id": "0dbbf5b4",
   "metadata": {},
   "source": [
    "### 3.4 Checking the number of unique values of each column"
   ]
  },
  {
   "cell_type": "code",
   "execution_count": null,
   "id": "2c2b61b6",
   "metadata": {},
   "outputs": [],
   "source": [
    "df.nunique()"
   ]
  },
  {
   "cell_type": "markdown",
   "id": "a4f6b022",
   "metadata": {},
   "source": [
    "### 3.5 Check statistics of data set"
   ]
  },
  {
   "cell_type": "code",
   "execution_count": null,
   "id": "76c608dc",
   "metadata": {},
   "outputs": [],
   "source": [
    "df.describe()"
   ]
  },
  {
   "cell_type": "markdown",
   "id": "9dc41207",
   "metadata": {},
   "source": [
    "#### Insight\n",
    "- From above description of numerical data, all means are very close to each other - between 66 and 68.05;\n",
    "- All standard deviations are also close - between 14.6 and 15.19;\n",
    "- While there is a minimum score  0 for math, for writing minimum is much higher = 10 and for reading myet higher = 17"
   ]
  },
  {
   "cell_type": "markdown",
   "id": "ac52d9cb",
   "metadata": {},
   "source": [
    "### 3.7 Exploring Data"
   ]
  },
  {
   "cell_type": "code",
   "execution_count": null,
   "id": "1afd3c09",
   "metadata": {},
   "outputs": [],
   "source": [
    "df.head()"
   ]
  },
  {
   "cell_type": "code",
   "execution_count": null,
   "id": "b9081742",
   "metadata": {},
   "outputs": [],
   "source": [
    "print(\"Categories in 'gender' variable:     \",end=\" \" )\n",
    "print(df['gender'].unique())\n",
    "\n",
    "print(\"Categories in 'race_ethnicity' variable:  \",end=\" \")\n",
    "print(df['race_ethnicity'].unique())\n",
    "\n",
    "print(\"Categories in'parental level of education' variable:\",end=\" \" )\n",
    "print(df['parental_level_of_education'].unique())\n",
    "\n",
    "print(\"Categories in 'lunch' variable:     \",end=\" \" )\n",
    "print(df['lunch'].unique())\n",
    "\n",
    "print(\"Categories in 'test preparation course' variable:     \",end=\" \" )\n",
    "print(df['test_preparation_course'].unique())"
   ]
  },
  {
   "cell_type": "code",
   "execution_count": null,
   "id": "2dd97e26",
   "metadata": {},
   "outputs": [],
   "source": [
    "# define numerical & categorical columns\n",
    "numeric_features = [feature for feature in df.columns if df[feature].dtype != 'O']\n",
    "categorical_features = [feature for feature in df.columns if df[feature].dtype == 'O']\n",
    "\n",
    "# print columns\n",
    "print('We have {} numerical features : {}'.format(len(numeric_features), numeric_features))\n",
    "print('\\nWe have {} categorical features : {}'.format(len(categorical_features), categorical_features))"
   ]
  },
  {
   "cell_type": "code",
   "execution_count": null,
   "id": "ae2822d1",
   "metadata": {},
   "outputs": [],
   "source": [
    "df.head(2)"
   ]
  },
  {
   "cell_type": "markdown",
   "id": "bd42eda6",
   "metadata": {},
   "source": [
    "### 3.8 Adding columns for \"Total Score\" and \"Average\""
   ]
  },
  {
   "cell_type": "code",
   "execution_count": null,
   "id": "3ffbfdf7",
   "metadata": {},
   "outputs": [],
   "source": [
    "df['total score'] = df['math_score'] + df['reading_score'] + df['writing_score']\n",
    "df['average'] = df['total score']/3\n",
    "df.head()"
   ]
  },
  {
   "cell_type": "code",
   "execution_count": null,
   "id": "26dc3844",
   "metadata": {},
   "outputs": [],
   "source": [
    "reading_full = df[df['reading_score'] == 100]['average'].count()\n",
    "writing_full = df[df['writing_score'] == 100]['average'].count()\n",
    "math_full = df[df['math_score'] == 100]['average'].count()\n",
    "\n",
    "print(f'Number of students with full marks in Maths: {math_full}')\n",
    "print(f'Number of students with full marks in Writing: {writing_full}')\n",
    "print(f'Number of students with full marks in Reading: {reading_full}')"
   ]
  },
  {
   "cell_type": "code",
   "execution_count": null,
   "id": "572c8a75",
   "metadata": {},
   "outputs": [],
   "source": [
    "reading_less_20 = df[df['reading_score'] <= 20]['average'].count()\n",
    "writing_less_20 = df[df['writing_score'] <= 20]['average'].count()\n",
    "math_less_20 = df[df['math_score'] <= 20]['average'].count()\n",
    "\n",
    "print(f'Number of students with less than 20 marks in Maths: {math_less_20}')\n",
    "print(f'Number of students with less than 20 marks in Writing: {writing_less_20}')\n",
    "print(f'Number of students with less than 20 marks in Reading: {reading_less_20}')"
   ]
  },
  {
   "cell_type": "markdown",
   "id": "190e078c",
   "metadata": {},
   "source": [
    "#####  Insights\n",
    " - From above values we get students have performed the worst in Maths \n",
    " - Best performance is in reading section"
   ]
  },
  {
   "cell_type": "markdown",
   "id": "e598bc93",
   "metadata": {},
   "source": [
    "### 4. Exploring Data ( Visualization )\n",
    "#### 4.1 Visualize average score distribution to make some conclusion. \n",
    "- Histogram\n",
    "- Kernel Distribution Function (KDE)"
   ]
  },
  {
   "cell_type": "markdown",
   "id": "f4726058",
   "metadata": {},
   "source": [
    "#### 4.1.1 Histogram & KDE"
   ]
  },
  {
   "cell_type": "code",
   "execution_count": null,
   "id": "c2510266",
   "metadata": {},
   "outputs": [],
   "source": [
    "plt.figure(figsize=(15,7))\n",
    "plt.subplot(121)\n",
    "sns.histplot(data=df,x='average',bins=30,kde=True,color='g')\n",
    "plt.subplot(122)\n",
    "sns.histplot(data=df,x='average',kde=True,hue='gender')\n",
    "plt.show()"
   ]
  },
  {
   "cell_type": "code",
   "execution_count": null,
   "id": "9e268118",
   "metadata": {},
   "outputs": [],
   "source": [
    "df.head()"
   ]
  },
  {
   "cell_type": "code",
   "execution_count": null,
   "id": "e7967c7a",
   "metadata": {},
   "outputs": [],
   "source": [
    "plt.figure(figsize=(15,7))\n",
    "plt.subplot(121)\n",
    "sns.histplot(data=df,x='total score',bins=30,kde=True,color='g')\n",
    "plt.subplot(122)\n",
    "sns.histplot(data=df,x='total score',kde=True,hue='gender')\n",
    "plt.show()"
   ]
  },
  {
   "cell_type": "markdown",
   "id": "3d200b76",
   "metadata": {},
   "source": [
    "#####  Insights\n",
    "- Female students tend to perform well then male students."
   ]
  },
  {
   "cell_type": "code",
   "execution_count": null,
   "id": "15522737",
   "metadata": {},
   "outputs": [],
   "source": [
    "plt.figure(figsize=(25,6))\n",
    "plt.subplot(141)\n",
    "sns.histplot(data=df,x='average',kde=True,hue='lunch')\n",
    "plt.title('WHole data')\n",
    "plt.subplot(142)\n",
    "sns.histplot(data=df[df.gender=='female'],x='average',kde=True,hue='lunch')\n",
    "plt.title('Female')\n",
    "plt.subplot(143)\n",
    "sns.histplot(data=df[df.gender=='male'],x='average',kde=True,hue='lunch')\n",
    "plt.title('Male')\n",
    "plt.show()"
   ]
  },
  {
   "cell_type": "markdown",
   "id": "569113e7",
   "metadata": {},
   "source": [
    "#####  Insights\n",
    "- Standard lunch helps perform well in exams.\n",
    "- Standard lunch helps perform well in exams be it a male or a female."
   ]
  },
  {
   "attachments": {},
   "cell_type": "markdown",
   "id": "7faa98ec",
   "metadata": {},
   "source": [
    "KDE and HIST PLOT FOR AVEGRAGE OF TOTAL,MALE AND FEMALE WRT PARENT EDUCATION \n",
    "- No need for plt.legend() if hue= is used. "
   ]
  },
  {
   "cell_type": "code",
   "execution_count": null,
   "id": "0b6c697a",
   "metadata": {},
   "outputs": [],
   "source": [
    "\n",
    "plt.figure(figsize=(25,6))\n",
    "plt.subplot(141)\n",
    "sns.histplot(data=df,x='average',kde=True,hue='parental_level_of_education')\n",
    "plt.subplot(142)\n",
    "sns.histplot(data=df[df.gender=='male'],x='average',kde=True,hue='parental_level_of_education')\n",
    "plt.subplot(143)\n",
    "sns.histplot(data=df[df.gender=='female'],x='average',kde=True,hue='parental_level_of_education')\n",
    "\n",
    "\n",
    "plt.figure(figsize=(25,4))\n",
    "plt.subplot(141)\n",
    "sns.kdeplot(data=df,x='average',hue='parental_level_of_education')\n",
    "plt.title('WHole data')\n",
    "\n",
    "plt.subplot(142)\n",
    "sns.kdeplot(data=df[df.gender=='male'],x='average',hue='parental_level_of_education')\n",
    "plt.title('Male')\n",
    "\n",
    "plt.subplot(143)\n",
    "sns.kdeplot(data=df[df.gender=='female'],x='average',hue='parental_level_of_education')\n",
    "plt.title('Female')\n",
    "\n",
    "plt.show()"
   ]
  },
  {
   "cell_type": "markdown",
   "id": "9e7fd489",
   "metadata": {},
   "source": [
    "#####  Insights\n",
    "- In general parent's education don't help student perform well in exam.\n",
    "- 2nd plot shows that parent's whose education is of associate's degree or master's degree their male child tend to perform well in exam\n",
    "- 3rd plot we can see there is no effect of parent's education on female students."
   ]
  },
  {
   "cell_type": "code",
   "execution_count": null,
   "id": "19b2950d",
   "metadata": {},
   "outputs": [],
   "source": []
  },
  {
   "cell_type": "code",
   "execution_count": null,
   "id": "0b30cbd7",
   "metadata": {},
   "outputs": [],
   "source": [
    "\n",
    "plt.figure(figsize=(25,6))\n",
    "\n",
    "plt.subplot(141)\n",
    "sns.histplot(data=df,x='average',kde=True,hue='race_ethnicity')\n",
    "\n",
    "plt.subplot(142)\n",
    "sns.histplot(data=df[df.gender=='male'],x='average',kde=True,hue='race_ethnicity')\n",
    "\n",
    "plt.subplot(143)\n",
    "sns.histplot(data=df[df.gender=='female'],x='average',kde=True,hue='race_ethnicity')\n",
    "\n",
    "\n",
    "plt.figure(figsize=(25,4))\n",
    "\n",
    "plt.subplot(141)\n",
    "sns.kdeplot(data=df,x='average',hue='race_ethnicity')\n",
    "plt.title('WHole data')\n",
    "\n",
    "plt.subplot(142)\n",
    "sns.kdeplot(data=df[df.gender=='male'],x='average',hue='race_ethnicity')\n",
    "plt.title('Male')\n",
    "\n",
    "plt.subplot(143)\n",
    "sns.kdeplot(data=df[df.gender=='female'],x='average',hue='race_ethnicity')\n",
    "plt.title('Female')\n",
    "\n",
    "plt.show()\n",
    "\n",
    "\n"
   ]
  },
  {
   "attachments": {},
   "cell_type": "markdown",
   "id": "6180a334",
   "metadata": {},
   "source": [
    "#####  Insights\n",
    "- Students of group A and group B tends to perform poorly in exam.\n",
    "- Students of group A and group B tends to perform poorly in exam irrespective of whether they are male or female\n",
    "\n",
    "- THIS PLOT TELL THAT ON Y AXIS WE HAVE NO.OF STUDENTS FOR GIVEN AVERAGE (X AXIS)"
   ]
  },
  {
   "cell_type": "code",
   "execution_count": null,
   "id": "1bcd8480",
   "metadata": {},
   "outputs": [],
   "source": []
  },
  {
   "cell_type": "code",
   "execution_count": null,
   "id": "926d5c9d",
   "metadata": {},
   "outputs": [],
   "source": [
    "plt.figure(figsize=(25,6))\n",
    "\n",
    "plt.subplot(141)\n",
    "sns.histplot(data=df,x='average',kde=True,hue='test_preparation_course',)\n",
    "\n",
    "plt.subplot(142)\n",
    "sns.histplot(data=df[df.gender=='male'],x='average',kde=True,hue='test_preparation_course')\n",
    "\n",
    "plt.subplot(143)\n",
    "sns.histplot(data=df[df.gender=='female'],x='average',kde=True,hue='test_preparation_course')\n",
    "\n",
    "\n",
    "plt.figure(figsize=(25,4))\n",
    "\n",
    "plt.subplot(141)\n",
    "sns.kdeplot(data=df,x='average',hue='test_preparation_course')\n",
    "plt.title('WHole data')\n",
    "\n",
    "plt.subplot(142)\n",
    "sns.kdeplot(data=df[df.gender=='male'],x='average',hue='test_preparation_course')\n",
    "plt.title('Male')\n",
    "\n",
    "plt.subplot(143)\n",
    "sns.kdeplot(data=df[df.gender=='female'],x='average',hue='test_preparation_course')\n",
    "plt.title('Female')\n",
    "\n",
    "plt.show()"
   ]
  },
  {
   "attachments": {},
   "cell_type": "markdown",
   "id": "ca20a823",
   "metadata": {},
   "source": [
    "##### Insights\n",
    "\n",
    "Irrespective of the gender\n",
    "- There are more number of students who have NOT completed the test prep.\n",
    "- The overall average score of the students who have COMPLETED the test prep is better"
   ]
  },
  {
   "cell_type": "markdown",
   "id": "a1f7eef3",
   "metadata": {},
   "source": [
    "#### 4.2 Maximumum score of students in all three subjects"
   ]
  },
  {
   "cell_type": "code",
   "execution_count": null,
   "id": "4ecc8595",
   "metadata": {},
   "outputs": [],
   "source": [
    "df.head(2)"
   ]
  },
  {
   "cell_type": "code",
   "execution_count": null,
   "id": "14db115f",
   "metadata": {},
   "outputs": [],
   "source": [
    "\n",
    "plt.figure(figsize=(15,6))\n",
    "plt.subplot(1, 4, 1)\n",
    "plt.title('MATH SCORES')\n",
    "sns.violinplot(y='math_score',data=df,color='red',linewidth=3)\n",
    "plt.subplot(1, 4, 2)\n",
    "plt.title('READING SCORES')\n",
    "sns.violinplot(y='reading_score',data=df,color='green',linewidth=3)\n",
    "plt.subplot(1, 4, 3)\n",
    "plt.title('WRITING SCORES')\n",
    "sns.violinplot(y='writing_score',data=df,color='blue',linewidth=3)\n",
    "plt.show()"
   ]
  },
  {
   "cell_type": "markdown",
   "id": "66d1041f",
   "metadata": {},
   "source": [
    "#### Insights\n",
    "- From the above three plots its clearly visible that most of the students score in between 60-80 in Maths whereas in reading and writing most of them score from 50-80"
   ]
  },
  {
   "attachments": {},
   "cell_type": "markdown",
   "id": "ae77a33d",
   "metadata": {},
   "source": [
    "#### 4.3 Multivariate analysis using  ( One way to do as coded by me)"
   ]
  },
  {
   "cell_type": "code",
   "execution_count": null,
   "id": "6a345efb",
   "metadata": {},
   "outputs": [],
   "source": [
    "df.head(3)"
   ]
  },
  {
   "cell_type": "code",
   "execution_count": null,
   "id": "b9790a40",
   "metadata": {},
   "outputs": [],
   "source": [
    "df.columns[0]"
   ]
  },
  {
   "cell_type": "code",
   "execution_count": null,
   "id": "88ff2f06",
   "metadata": {},
   "outputs": [],
   "source": [
    "df[df.columns[0]].value_counts()\n"
   ]
  },
  {
   "cell_type": "code",
   "execution_count": null,
   "id": "e445fcac",
   "metadata": {},
   "outputs": [],
   "source": [
    "plt.figure(figsize= (20,4))\n",
    "\n",
    "\n",
    "for i in range(len(df.columns)-5):\n",
    "    # print(i+1)\n",
    "    # print(df.columns[i])\n",
    "    plt.subplot(1,len(df.columns)-5,i+1)\n",
    "    plt.pie(df[df.columns[i]].value_counts(),labels=df[df.columns[i]].value_counts().index,autopct= '%1.2f%%')\n",
    "    plt.title(df.columns[i],fontsize=20)\n",
    "    \n",
    "plt.tight_layout(w_pad=2,h_pad=8)\n",
    "plt.grid()\n",
    "\n"
   ]
  },
  {
   "attachments": {},
   "cell_type": "markdown",
   "id": "b6bc4d32",
   "metadata": {},
   "source": [
    "Insights\n",
    "- Number of Male and Female students is almost equal\n",
    "- Number students are greatest in Group C\n",
    "- Number of students who have standard lunch are greater\n",
    "- Number of students who have not enrolled in any test preparation course is greater\n",
    "- Number of students whose parental education is \"Some College\" is greater followed closely by \"Associate's Degree\""
   ]
  },
  {
   "attachments": {},
   "cell_type": "markdown",
   "id": "ad6f5bc0",
   "metadata": {},
   "source": [
    "#### Alternate way as done by Krish NAik\n"
   ]
  },
  {
   "cell_type": "code",
   "execution_count": null,
   "id": "2ddf9ce3",
   "metadata": {},
   "outputs": [],
   "source": [
    "plt.rcParams['figure.figsize'] = (30, 12)\n",
    "\n",
    "plt.subplot(1, 5, 1)\n",
    "size = df['gender'].value_counts()\n",
    "labels = 'Female', 'Male'\n",
    "color = ['red','green']\n",
    "\n",
    "\n",
    "plt.pie(size, colors = color, labels = labels,autopct = '%.2f%%')\n",
    "plt.title('Gender', fontsize = 20)\n",
    "# plt.axis('off')\n",
    "\n",
    "\n",
    "\n",
    "plt.subplot(1, 5, 2)\n",
    "size = df['race_ethnicity'].value_counts()\n",
    "labels = 'Group C', 'Group D','Group B','Group E','Group A'\n",
    "color = ['red', 'green', 'blue', 'cyan','orange']\n",
    "\n",
    "plt.pie(size, colors = color,labels = labels,autopct = '%.2f%%')\n",
    "plt.title('Race Ethnicity', fontsize = 20)\n",
    "# plt.axis('off')\n",
    "\n",
    "\n",
    "\n",
    "plt.subplot(1, 5, 3)\n",
    "size = df['lunch'].value_counts()\n",
    "labels = 'Standard', 'Free'\n",
    "color = ['red','green']\n",
    "\n",
    "plt.pie(size, colors = color,labels = labels,autopct = '%.2f%%')\n",
    "plt.title('Lunch', fontsize = 20)\n",
    "# plt.axis('off')\n",
    "\n",
    "\n",
    "plt.subplot(1, 5, 4)\n",
    "size = df['test_preparation_course'].value_counts()\n",
    "labels = 'None', 'Completed'\n",
    "color = ['red','green']\n",
    "\n",
    "plt.pie(size, colors = color,labels = labels,autopct = '%.2f%%')\n",
    "plt.title('Test Course', fontsize = 20)\n",
    "# plt.axis('off')\n",
    "\n",
    "\n",
    "plt.subplot(1, 5, 5)\n",
    "size = df['parental_level_of_education'].value_counts()\n",
    "labels = 'Some College', \"Associate's Degree\",'High School','Some High School',\"Bachelor's Degree\",\"Master's Degree\"\n",
    "color = ['red', 'green', 'blue', 'cyan','orange','grey']\n",
    "\n",
    "plt.pie(size, colors = color,labels = labels,autopct = '%.2f%%')\n",
    "plt.title('Parental Education', fontsize = 20)\n",
    "# plt.axis('off')\n",
    "\n",
    "\n",
    "plt.tight_layout()\n",
    "plt.grid()\n",
    "\n",
    "plt.show()"
   ]
  },
  {
   "attachments": {},
   "cell_type": "markdown",
   "id": "2e2d686a",
   "metadata": {},
   "source": [
    "#####  Insights\n",
    "- Number of Male and Female students is almost equal\n",
    "- Number students are greatest in Group C\n",
    "- Number of students who have standard lunch are greater\n",
    "- Number of students who have not enrolled in any test preparation course is greater\n",
    "- Number of students whose parental education is \"Some College\" is greater followed closely by \"Associate's Degree\""
   ]
  },
  {
   "attachments": {},
   "cell_type": "markdown",
   "id": "ab008237",
   "metadata": {},
   "source": [
    "#### 4.4 FEATURE WISE VISUALIZATION\n",
    "\n",
    "#### 4.4.1 Gender Feature\n",
    "- How is distribution of Gender ?\n",
    "- Is gender has any impact on student's performance ?"
   ]
  },
  {
   "cell_type": "markdown",
   "id": "e1a2c8f5",
   "metadata": {},
   "source": [
    "#### UNIVARIATE ANALYSIS ( How is distribution of Gender ? )"
   ]
  },
  {
   "cell_type": "code",
   "execution_count": null,
   "id": "c435f53b",
   "metadata": {},
   "outputs": [],
   "source": [
    "f,ax=plt.subplots(1,2,figsize=(8,3))\n",
    "sns.countplot(x=df['gender'],data=df,palette ='bright',ax=ax[0],saturation=0.95)\n",
    "for container in ax[0].containers:\n",
    "    ax[0].bar_label(container,color='black',size=6)\n",
    "    \n",
    "plt.pie(x=df['gender'].value_counts(),labels=df['gender'].value_counts().index.str.capitalize(),explode=[0,0.1],autopct='%1.1f%%',shadow=True,colors=['#ff4d4d','#ff8000'])\n",
    "plt.show()"
   ]
  },
  {
   "attachments": {},
   "cell_type": "markdown",
   "id": "cfb8c9b2",
   "metadata": {},
   "source": [
    "#### Insights \n",
    "- Gender has balanced data with female students are 518 (51.8%) and male students are 482 (48.2%) "
   ]
  },
  {
   "attachments": {},
   "cell_type": "markdown",
   "id": "e440a3a5",
   "metadata": {},
   "source": [
    "### BIVARIATE ANALYSIS ( Is gender has any impact on student's performance ? ) "
   ]
  },
  {
   "attachments": {},
   "cell_type": "markdown",
   "id": "279a57c2",
   "metadata": {},
   "source": [
    "#### ONE WAY TO DO USING PLT.BAR, TOO MUCH CODE !!"
   ]
  },
  {
   "cell_type": "code",
   "execution_count": null,
   "id": "669d10f3",
   "metadata": {},
   "outputs": [],
   "source": [
    "df.head(2)"
   ]
  },
  {
   "cell_type": "code",
   "execution_count": null,
   "id": "c40409b6",
   "metadata": {},
   "outputs": [],
   "source": [
    "gender_group = df.groupby('gender').mean().round(decimals=3)\n",
    "gender_group"
   ]
  },
  {
   "cell_type": "code",
   "execution_count": null,
   "id": "ace72bcc",
   "metadata": {},
   "outputs": [],
   "source": [
    "gender_group1 = gender_group.drop(['total score','average'],axis=1)"
   ]
  },
  {
   "cell_type": "code",
   "execution_count": null,
   "id": "b704f144",
   "metadata": {},
   "outputs": [],
   "source": [
    "plt.figure(figsize=(10, 3))\n",
    "\n",
    "X = ['Math_Average','Reading_Avg','Writing_Avg']\n",
    "\n",
    "female_scores=[]\n",
    "male_scores =[]\n",
    "\n",
    "for i in gender_group1:\n",
    "    female_scores.append(gender_group1[i][0])\n",
    "    male_scores.append(gender_group1[i][1])\n",
    "\n",
    "\n",
    "\n",
    "X_axis = np.arange(len(X))\n",
    "  \n",
    "plt.bar(X_axis - 0.2, male_scores, 0.4, label = 'Male')\n",
    "plt.bar(X_axis + 0.2, female_scores, 0.4, label = 'Female')\n",
    "  \n",
    "plt.xticks(X_axis, X)\n",
    "plt.ylabel(\"Marks\")\n",
    "plt.title(\"Gender comparison across average values\", fontweight='bold',fontsize=12)\n",
    "plt.legend(bbox_to_anchor=(1.05, 1), loc=2, borderaxespad=0.)\n",
    "plt.show()"
   ]
  },
  {
   "attachments": {},
   "cell_type": "markdown",
   "id": "c99fe3ac",
   "metadata": {},
   "source": [
    "#### SIMPLE WAY TO PLOT in NORMAL AND INVERTED WAYS\n",
    "- USE GROUPED_DATAFRAME.PLOT() TO GET INDEX VALUES ON X-AXIS AND COLUMN VALUES ON Y, WHERE HUE WOULD BE COLUMN NAMES\n",
    "\n",
    "- Use Grouped_Dataframe.TRANSPOSE().plot() to interchange index and columns names."
   ]
  },
  {
   "cell_type": "code",
   "execution_count": null,
   "id": "79c05e4d",
   "metadata": {},
   "outputs": [],
   "source": [
    "ax = gender_group1.plot(kind='bar',figsize=(10,4))\n",
    "for container in ax.containers:\n",
    "    ax.bar_label(container,fontsize=11)\n",
    "\n",
    "plt.xticks(rotation='horizontal')\n",
    "plt.legend(bbox_to_anchor=(1.05, 1), loc=2, borderaxespad=0.)\n",
    "plt.show()"
   ]
  },
  {
   "cell_type": "markdown",
   "id": "064be449",
   "metadata": {},
   "source": [
    "#####  USING TRANSPOSE ON GROUPED DATA"
   ]
  },
  {
   "cell_type": "code",
   "execution_count": null,
   "id": "20a9e578",
   "metadata": {},
   "outputs": [],
   "source": [
    "ax = gender_group1.transpose().plot(kind='bar',figsize=(10,4))\n",
    "for container in ax.containers:\n",
    "    ax.bar_label(container,fontsize=11)\n",
    "\n",
    "plt.xticks(rotation='horizontal')\n",
    "plt.legend(bbox_to_anchor=(1.05, 1), loc=2, borderaxespad=0.)\n",
    "plt.show()"
   ]
  },
  {
   "cell_type": "markdown",
   "id": "72fbab62",
   "metadata": {},
   "source": [
    "#### Insights \n",
    "- On an average females have a better overall score than men.\n",
    "- whereas males have scored higher in Maths."
   ]
  },
  {
   "attachments": {},
   "cell_type": "markdown",
   "id": "1a903c5c",
   "metadata": {},
   "source": [
    "### 4.4.2 RACE/EHNICITY COLUMN\n",
    "- How is Group wise distribution ?\n",
    "- Is Race/Ehnicity has any impact on student's performance ?"
   ]
  },
  {
   "cell_type": "markdown",
   "id": "69fe557f",
   "metadata": {},
   "source": [
    "#### UNIVARIATE ANALYSIS ( How is Group wise distribution ?)"
   ]
  },
  {
   "cell_type": "code",
   "execution_count": null,
   "id": "acbc5c8e",
   "metadata": {},
   "outputs": [],
   "source": [
    "f,ax=plt.subplots(1,2,figsize=(10,3))\n",
    "sns.countplot(x=df['race_ethnicity'],data=df,ax=ax[0],saturation=0.95)\n",
    "\n",
    "\n",
    "for container in ax[0].containers:\n",
    "    ax[0].bar_label(container,color='black',size=9)\n",
    "    \n",
    "plt.pie(x = df['race_ethnicity'].value_counts(),labels=df['race_ethnicity'].value_counts().index.str.capitalize(),explode=[0.1,0,0,0,0],autopct='%1.1f%%',shadow=True)\n",
    "plt.show()"
   ]
  },
  {
   "cell_type": "markdown",
   "id": "1762646a",
   "metadata": {},
   "source": [
    "#### Insights \n",
    "- Most of the student belonging from group C /group D.\n",
    "- Lowest number of students belong to groupA."
   ]
  },
  {
   "cell_type": "markdown",
   "id": "2d3a3719",
   "metadata": {},
   "source": [
    "#### BIVARIATE ANALYSIS ( Is Race/Ehnicity has any impact on student's performance ? )"
   ]
  },
  {
   "cell_type": "code",
   "execution_count": null,
   "id": "bcd08c5c",
   "metadata": {},
   "outputs": [],
   "source": [
    "group_date_race = df.groupby('race_ethnicity').mean().round(decimals=2)\n",
    "\n",
    "group_date_race.rename(index={'group A':'group_A','group B':'group_B','group C':'group_C','group D':'group_D','group E':'group_E'},inplace=True) #To remove space between group and A,B,...E\n",
    "group_date_race"
   ]
  },
  {
   "cell_type": "code",
   "execution_count": null,
   "id": "6c71dbc6",
   "metadata": {},
   "outputs": [],
   "source": [
    "group_date_race1 = group_date_race.drop(['total score','average'],axis=1)"
   ]
  },
  {
   "attachments": {},
   "cell_type": "markdown",
   "id": "e3d5221b",
   "metadata": {},
   "source": [
    "#### MY OWN WAY ( SIMILAR TO GENDER ONE) TOO MUCH CODE !!!"
   ]
  },
  {
   "cell_type": "code",
   "execution_count": null,
   "id": "1a4e2463",
   "metadata": {},
   "outputs": [],
   "source": [
    "# TO ASSIGN EMPTY LISTS TO ALL THE GROUPS SO THAT ALL THE AVREAGE VALUES WRT GROUPS CAN BE STORED IN A LIST \n",
    "group_A,group_B,group_C,group_D,group_E = [[] for i in range(len(group_date_race.index))]  \n",
    "\n",
    "type(group_A)"
   ]
  },
  {
   "cell_type": "code",
   "execution_count": null,
   "id": "49df9a75",
   "metadata": {},
   "outputs": [],
   "source": [
    "for i in group_date_race1:\n",
    "    group_A.append(group_date_race1[i][0])\n",
    "    group_B.append(group_date_race1[i][1])\n",
    "    group_C.append(group_date_race1[i][2])\n",
    "    group_D.append(group_date_race1[i][3])\n",
    "    group_E.append(group_date_race1[i][4])\n"
   ]
  },
  {
   "cell_type": "code",
   "execution_count": null,
   "id": "30d8cd82",
   "metadata": {},
   "outputs": [],
   "source": [
    "plt.figure(figsize=(10, 4))\n",
    "\n",
    "X = ['Math_Average','Reading_Avg','Writing_Avg']\n",
    "\n",
    "X_axis = np.arange(len(X))\n",
    "\n",
    "width = 0.05 # DONE TO ADJUST SPACING ON X AXIS SINCE THERE ARE MANY CATEGORIES\n",
    "\n",
    "\n",
    "'''\n",
    "x_AXIS+WIDTH IS DONE TO SET UP GROUP WISE AVERAGE ON THE AXIS AT APPROPRIATE LENGTHS\n",
    "'''\n",
    "\n",
    "plt.bar(X_axis+width ,group_A, 0.1, label = 'group_A')\n",
    "\n",
    "\n",
    "plt.bar(X_axis+width*3, group_B, 0.1, label = 'group_B')\n",
    "\n",
    "\n",
    "plt.bar(X_axis+width*5 , group_C, 0.1, label = 'group_C')\n",
    "\n",
    "\n",
    "plt.bar(X_axis+width*7 , group_D, 0.1, label = 'group_D')\n",
    "\n",
    "\n",
    "plt.bar(X_axis+width*9, group_E, 0.1, label = 'group_E')\n",
    "\n",
    "\n",
    "\n",
    "plt.xticks(X_axis+width*5, X)\n",
    "plt.ylabel(\"Marks\")\n",
    "plt.title(\"Race Ethnicity comparison across average values\", fontweight='bold')\n",
    "plt.legend(fontsize=8)\n",
    "plt.show()"
   ]
  },
  {
   "attachments": {},
   "cell_type": "markdown",
   "id": "430795ea",
   "metadata": {},
   "source": [
    "#### KRISH NAIK METHOD TO PLOT RACE_ETHNICITY VS AVERAGE"
   ]
  },
  {
   "cell_type": "code",
   "execution_count": null,
   "id": "9626568e",
   "metadata": {},
   "outputs": [],
   "source": [
    "\n",
    "f,ax=plt.subplots(1,3,figsize=(15,5))\n",
    "\n",
    "sns.barplot(x=group_date_race1.index, y=group_date_race1['math_score'],palette = 'mako',ax=ax[0])\n",
    "ax[0].set_title('Math score',color='#005ce6',size=15)\n",
    "\n",
    "for container in ax[0].containers:\n",
    "    ax[0].bar_label(container,color='black',size=9)\n",
    "\n",
    "\n",
    "sns.barplot(x=group_date_race1.index,y=group_date_race1['reading_score'],palette = 'flare',ax=ax[1])\n",
    "ax[1].set_title('Reading score',color='#005ce6',size=15)\n",
    "\n",
    "for container in ax[1].containers:\n",
    "    ax[1].bar_label(container,color='black',size=9)\n",
    "    \n",
    "\n",
    "sns.barplot(x=group_date_race1.index,y=group_date_race1['writing_score'],palette = 'coolwarm',ax=ax[2])\n",
    "ax[2].set_title('Writing score',color='#005ce6',size=15)\n",
    "\n",
    "for container in ax[2].containers:\n",
    "    ax[2].bar_label(container,color='black',size=9)"
   ]
  },
  {
   "attachments": {},
   "cell_type": "markdown",
   "id": "991bced2",
   "metadata": {},
   "source": [
    "#### SIMPLE WAY TO PLOT in NORMAL AND INVERTED WAYS\n"
   ]
  },
  {
   "cell_type": "code",
   "execution_count": null,
   "id": "5b7076df",
   "metadata": {},
   "outputs": [],
   "source": [
    "ax = group_date_race1.plot(kind='bar',figsize=(11,4))\n",
    "for container in ax.containers:\n",
    "    ax.bar_label(container,fontsize=7)\n",
    "    \n",
    "plt.xticks(rotation='horizontal')\n",
    "plt.legend(bbox_to_anchor=(1.05, 1), loc=2, borderaxespad=0.)\n",
    "plt.show()"
   ]
  },
  {
   "cell_type": "markdown",
   "id": "28b5252a",
   "metadata": {},
   "source": [
    "#####  USING TRANSPOSE ON GROUPED DATA"
   ]
  },
  {
   "cell_type": "code",
   "execution_count": null,
   "id": "7850d6b6",
   "metadata": {},
   "outputs": [],
   "source": [
    "\n",
    "ax = group_date_race1.transpose().plot(kind='bar',figsize=(10,6))\n",
    "for container in ax.containers:\n",
    "    ax.bar_label(container,fontsize=8)\n",
    "    \n",
    "plt.xticks(rotation='horizontal')\n",
    "plt.legend(bbox_to_anchor=(1.05, 1), loc=2, borderaxespad=0.)\n",
    "plt.show()"
   ]
  },
  {
   "cell_type": "markdown",
   "id": "8e292ddd",
   "metadata": {},
   "source": [
    "#### Insights \n",
    "- Group E students have scored the highest marks. \n",
    "- Group A students have scored the lowest marks. \n",
    "- Students from a lower Socioeconomic status have a lower avg in all course subjects"
   ]
  },
  {
   "attachments": {},
   "cell_type": "markdown",
   "id": "1409042e",
   "metadata": {},
   "source": [
    "### 4.4.3 PARENTAL LEVEL OF EDUCATION COLUMN\n",
    "- What is educational background of student's parent ?\n",
    "- Is parental education has any impact on student's performance ?"
   ]
  },
  {
   "cell_type": "markdown",
   "id": "38aca4fc",
   "metadata": {},
   "source": [
    "#### UNIVARIATE ANALYSIS ( What is educational background of student's parent ? )"
   ]
  },
  {
   "cell_type": "code",
   "execution_count": null,
   "id": "c05ab987",
   "metadata": {},
   "outputs": [],
   "source": [
    "# plt.rcParams['figure.figsize'] = (15, 6)\n",
    "plt.figure(figsize=(13,4))\n",
    "plt.style.use('fivethirtyeight')\n",
    "sns.countplot(data=df,x=df['parental_level_of_education'],palette='Blues')\n",
    "plt.title('Comparison of Parental Education', fontweight = 30, fontsize = 15)\n",
    "plt.xlabel('Degree')\n",
    "\n",
    "plt.ylabel('count')\n",
    "plt.show()"
   ]
  },
  {
   "cell_type": "markdown",
   "id": "3d351e1d",
   "metadata": {},
   "source": [
    "#### Insights \n",
    "- Largest number of parents are from some college."
   ]
  },
  {
   "cell_type": "markdown",
   "id": "6f38ab41",
   "metadata": {},
   "source": [
    "#### BIVARIATE ANALYSIS ( Is parental education has any impact on student's performance ? )"
   ]
  },
  {
   "cell_type": "code",
   "execution_count": null,
   "id": "122b2581",
   "metadata": {},
   "outputs": [],
   "source": [
    "df.groupby('parental_level_of_education').agg('mean').plot(kind='barh',figsize=(5,5))\n",
    "plt.legend(bbox_to_anchor=(1.05, 1), loc=2, borderaxespad=1)\n",
    "plt.show()"
   ]
  },
  {
   "cell_type": "markdown",
   "id": "58b3999d",
   "metadata": {},
   "source": [
    "#### Insights \n",
    "- The score of student whose parents possess master and bachelor level education are higher than others."
   ]
  },
  {
   "attachments": {},
   "cell_type": "markdown",
   "id": "079f4f29",
   "metadata": {},
   "source": [
    "### 4.4.4 LUNCH COLUMN \n",
    "- Which type of lunch is most common amoung students ?\n",
    "- What is the effect of lunch type on test results?\n"
   ]
  },
  {
   "cell_type": "markdown",
   "id": "8584c755",
   "metadata": {},
   "source": [
    "#### UNIVARIATE ANALYSIS ( Which type of lunch is most common amoung students ? )"
   ]
  },
  {
   "cell_type": "code",
   "execution_count": null,
   "id": "a3a277e0",
   "metadata": {},
   "outputs": [],
   "source": [
    "# plt.rcParams['figure.figsize'] = (15, 9)\n",
    "plt.figure(figsize=(10,4))\n",
    "\n",
    "a = sns.countplot(data=df,x='lunch', palette = 'PuBu',)\n",
    "for container in a.containers:\n",
    "    a.bar_label(container,color='black')\n",
    "\n",
    "\n",
    "plt.title('Comparison of different types of lunch', fontweight = 30, fontsize = 20)\n",
    "plt.xlabel('types of lunch')\n",
    "plt.ylabel('count')\n",
    "plt.show()"
   ]
  },
  {
   "attachments": {},
   "cell_type": "markdown",
   "id": "332b0c50",
   "metadata": {},
   "source": [
    "#### Insights \n",
    "- No. of students being served Standard lunch was more than free lunch"
   ]
  },
  {
   "cell_type": "markdown",
   "id": "d75db26f",
   "metadata": {},
   "source": [
    "#### BIVARIATE ANALYSIS (  Is lunch type intake has any impact on student's performance ? )"
   ]
  },
  {
   "cell_type": "code",
   "execution_count": null,
   "id": "d7313bc6",
   "metadata": {},
   "outputs": [],
   "source": [
    "group_lunch = df.groupby('lunch').mean().round(decimals=3).drop(['average'],axis=1)\n",
    "group_lunch"
   ]
  },
  {
   "cell_type": "code",
   "execution_count": null,
   "id": "5fcce728",
   "metadata": {},
   "outputs": [],
   "source": [
    "a = group_lunch.plot(kind='bar')\n",
    "\n",
    "for container in a.containers:\n",
    "    a.bar_label(container,fontsize=6)\n",
    "\n",
    "plt.xticks(rotation='horizontal')\n",
    "plt.legend(bbox_to_anchor=(1.05, 1), loc=2, borderaxespad=1)\n",
    "plt.show()"
   ]
  },
  {
   "attachments": {},
   "cell_type": "markdown",
   "id": "861cbaba",
   "metadata": {},
   "source": [
    "#####  USING TRANSPOSE ON GROUPED DATA"
   ]
  },
  {
   "cell_type": "code",
   "execution_count": null,
   "metadata": {},
   "outputs": [],
   "source": [
    "a = group_lunch.transpose().plot(kind='bar')\n",
    "\n",
    "for container in a.containers:\n",
    "    a.bar_label(container,fontsize=6)\n",
    "\n",
    "plt.xticks(rotation='horizontal')\n",
    "plt.legend(bbox_to_anchor=(1.05, 1), loc=2, borderaxespad=1)\n",
    "plt.show()"
   ]
  },
  {
   "attachments": {},
   "cell_type": "markdown",
   "id": "016ff9ed",
   "metadata": {},
   "source": [
    "#### As done by Krish NAik"
   ]
  },
  {
   "cell_type": "code",
   "execution_count": null,
   "id": "666babd5",
   "metadata": {},
   "outputs": [],
   "source": [
    "f,ax=plt.subplots(1,2,figsize=(15,4))\n",
    "\n",
    "\n",
    "sns.countplot(x=df['parental_level_of_education'],data=df,palette = 'bright',hue='test_preparation_course',saturation=0.95,ax=ax[0])\n",
    "ax[0].set_title('Students vs test preparation course ',color='black',size=25)\n",
    "for container in ax[0].containers:\n",
    "    ax[0].bar_label(container,color='black',size=20)\n",
    "    \n",
    "sns.countplot(x=df['parental_level_of_education'],data=df,palette = 'bright',hue='lunch',saturation=0.95,ax=ax[1])\n",
    "for container in ax[1].containers:\n",
    "    ax[1].bar_label(container,color='black',size=20)   \n",
    "\n",
    "plt.legend(bbox_to_anchor=(1.05, 1), loc=2, borderaxespad=1)"
   ]
  },
  {
   "cell_type": "markdown",
   "id": "0677b04c",
   "metadata": {},
   "source": [
    "#### Insights \n",
    "- Students who get Standard Lunch tend to perform better than students who got free/reduced lunch"
   ]
  },
  {
   "cell_type": "markdown",
   "id": "edd0ec29",
   "metadata": {},
   "source": [
    "#### 4.4.5 TEST PREPARATION COURSE COLUMN \n",
    "- Which type of lunch is most common amoung students ?\n",
    "- Is Test prepration course has any impact on student's performance ?"
   ]
  },
  {
   "attachments": {},
   "cell_type": "markdown",
   "id": "bddf3da9",
   "metadata": {},
   "source": [
    "#### UNIVARIATE ANALYSIS"
   ]
  },
  {
   "cell_type": "code",
   "execution_count": null,
   "id": "aef34d24",
   "metadata": {},
   "outputs": [],
   "source": [
    "df.head(2)"
   ]
  },
  {
   "cell_type": "code",
   "execution_count": null,
   "id": "5cc5c3f3",
   "metadata": {},
   "outputs": [],
   "source": [
    "plt.figure(figsize=(8,4))\n",
    "ax = sns.countplot(data=df,x='test_preparation_course')\n",
    "for container in ax.containers:\n",
    "    ax.bar_label(container)\n",
    "\n",
    "plt.show()"
   ]
  },
  {
   "attachments": {},
   "cell_type": "markdown",
   "id": "e559b425",
   "metadata": {},
   "source": [
    "####  Insights \n",
    "- NO.OF STUDENTS WHO HAVE NOT COMPLETED ANY TEST PREP COURSE IS WAY MORE THAN THE ONES WHO COMPLETED "
   ]
  },
  {
   "cell_type": "markdown",
   "id": "47185efd",
   "metadata": {},
   "source": []
  },
  {
   "cell_type": "markdown",
   "id": "cf8f65bd",
   "metadata": {},
   "source": [
    "#### BIVARIATE ANALYSIS ( Is Test prepration course has any impact on student's performance ? )"
   ]
  },
  {
   "cell_type": "code",
   "execution_count": null,
   "id": "e6d9668a",
   "metadata": {},
   "outputs": [],
   "source": [
    "group_test_prep = df.groupby('test_preparation_course').mean().round(decimals=2).drop(['average'],axis=1)\n",
    "group_test_prep"
   ]
  },
  {
   "attachments": {},
   "cell_type": "markdown",
   "id": "11af3590",
   "metadata": {},
   "source": [
    "### Simple way using grouped_feature.DataFrame.plot"
   ]
  },
  {
   "cell_type": "code",
   "execution_count": null,
   "id": "f0c54a37",
   "metadata": {},
   "outputs": [],
   "source": [
    "ax = group_test_prep.plot(kind='barh')\n",
    "for container in ax.containers:\n",
    "    ax.bar_label(container,fontsize=8)\n",
    "\n",
    "plt.xticks(rotation='horizontal')\n",
    "plt.legend(bbox_to_anchor=(1.05, 1), loc=2, borderaxespad=1)\n",
    "plt.show()"
   ]
  },
  {
   "attachments": {},
   "cell_type": "markdown",
   "id": "e574b228",
   "metadata": {},
   "source": [
    "#### Using transpose"
   ]
  },
  {
   "cell_type": "code",
   "execution_count": null,
   "id": "0afd9da5",
   "metadata": {},
   "outputs": [],
   "source": [
    "ax = group_test_prep.transpose().plot(kind='barh')\n",
    "for container in ax.containers:\n",
    "    ax.bar_label(container,fontsize=7)\n",
    "\n",
    "plt.xticks(rotation='horizontal')\n",
    "plt.legend(bbox_to_anchor=(1.05, 1), loc=2, borderaxespad=1)\n",
    "plt.show()"
   ]
  },
  {
   "attachments": {},
   "cell_type": "markdown",
   "id": "a9127558",
   "metadata": {},
   "source": [
    "##### As done by KRish Naik"
   ]
  },
  {
   "cell_type": "code",
   "execution_count": null,
   "id": "1b08ed26",
   "metadata": {},
   "outputs": [],
   "source": [
    "plt.figure(figsize=(12,6))\n",
    "plt.subplot(2,2,1)\n",
    "sns.barplot (x=df['lunch'], y=df['math_score'], hue=df['test_preparation_course'])\n",
    "plt.subplot(2,2,2)\n",
    "sns.barplot (x=df['lunch'], y=df['reading_score'], hue=df['test_preparation_course'])\n",
    "plt.subplot(2,2,3)\n",
    "sns.barplot (x=df['lunch'], y=df['writing_score'], hue=df['test_preparation_course'])\n",
    "\n",
    "plt.show()"
   ]
  },
  {
   "cell_type": "markdown",
   "id": "5bab116e",
   "metadata": {},
   "source": [
    "#### Insights  \n",
    "- Students who have completed the Test Prepration Course have scores higher in all three categories than those who haven't taken the course"
   ]
  },
  {
   "attachments": {},
   "cell_type": "markdown",
   "id": "4069d6e6",
   "metadata": {},
   "source": [
    "#### 4.4.6 CHECKING OUTLIERS\n",
    "\n",
    "- In sns.boxplot(), x axis should always have numeric values, categorical is not allowed"
   ]
  },
  {
   "cell_type": "code",
   "execution_count": null,
   "id": "4d4005f6",
   "metadata": {},
   "outputs": [],
   "source": [
    "df.head(2)"
   ]
  },
  {
   "cell_type": "code",
   "execution_count": null,
   "id": "62a813a5",
   "metadata": {},
   "outputs": [],
   "source": [
    "plt.subplots(1,4,figsize=(15,3))\n",
    "plt.subplot(141)\n",
    "sns.boxplot(x = df['math_score'],color='skyblue')\n",
    "\n",
    "plt.subplot(142)\n",
    "sns.boxplot(x=df['reading_score'],color='hotpink')\n",
    "\n",
    "plt.subplot(143)\n",
    "sns.boxplot(x=df['writing_score'],color='yellow')\n",
    "\n",
    "plt.subplot(144)\n",
    "sns.boxplot(x=df['average'],color='lightgreen')\n",
    "plt.show()"
   ]
  },
  {
   "attachments": {},
   "cell_type": "markdown",
   "id": "58e15396",
   "metadata": {},
   "source": [
    "#### Insights\n",
    "\n",
    "As we can see there are few outliers"
   ]
  },
  {
   "cell_type": "markdown",
   "id": "957e8bef",
   "metadata": {},
   "source": [
    "#### 4.4.7 MUTIVARIATE ANALYSIS USING PAIRPLOT"
   ]
  },
  {
   "cell_type": "code",
   "execution_count": null,
   "id": "f09f746c",
   "metadata": {},
   "outputs": [],
   "source": [
    "sns.pairplot(df,hue ='race_ethnicity')\n",
    "plt.show()"
   ]
  },
  {
   "cell_type": "markdown",
   "id": "f7991322",
   "metadata": {},
   "source": [
    "#### Insights\n",
    "- From the above plot it is clear that all the scores increase linearly with each other."
   ]
  },
  {
   "cell_type": "markdown",
   "id": "b7e20716",
   "metadata": {},
   "source": [
    "### 5. Conclusions\n",
    "- Student's Performance is related with lunch, race, parental level education\n",
    "- Females lead in pass percentage and also are top-scorers\n",
    "- Student's Performance is not much related with test preparation course\n",
    "- Finishing preparation course is benefitial."
   ]
  },
  {
   "cell_type": "markdown",
   "id": "a4e4dd63",
   "metadata": {},
   "source": []
  }
 ],
 "metadata": {
  "kernelspec": {
   "display_name": "Python 3 (ipykernel)",
   "language": "python",
   "name": "python3"
  },
  "language_info": {
   "codemirror_mode": {
    "name": "ipython",
    "version": 3
   },
   "file_extension": ".py",
   "mimetype": "text/x-python",
   "name": "python",
   "nbconvert_exporter": "python",
   "pygments_lexer": "ipython3",
   "version": "3.8.16"
  },
  "vscode": {
   "interpreter": {
    "hash": "7f9dc718a552478e14f37d36e0ca2ac7de1ac15c04a40a415ea3abc3fe8a0a39"
   }
  }
 },
 "nbformat": 4,
 "nbformat_minor": 5
}
