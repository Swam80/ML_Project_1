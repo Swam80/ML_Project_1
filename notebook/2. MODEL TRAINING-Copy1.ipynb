{
 "cells": [
  {
   "cell_type": "markdown",
   "id": "92e48866",
   "metadata": {},
   "source": [
    "## Model Training"
   ]
  },
  {
   "cell_type": "markdown",
   "id": "25791a74",
   "metadata": {},
   "source": [
    "#### 1.1 Import Data and Required Packages\n",
    "##### Importing Pandas, Numpy, Matplotlib, Seaborn and Warings Library."
   ]
  },
  {
   "cell_type": "code",
   "execution_count": 1,
   "id": "b080dfb2",
   "metadata": {},
   "outputs": [],
   "source": [
    "# Basic Import\n",
    "import numpy as np\n",
    "import pandas as pd\n",
    "import matplotlib.pyplot as plt \n",
    "import seaborn as sns\n",
    "# Modelling\n",
    "from sklearn.metrics import mean_squared_error, r2_score\n",
    "from sklearn.neighbors import KNeighborsRegressor\n",
    "from sklearn.tree import DecisionTreeRegressor\n",
    "from sklearn.ensemble import RandomForestRegressor,AdaBoostRegressor,GradientBoostingRegressor\n",
    "from sklearn.svm import SVR\n",
    "from sklearn.linear_model import LinearRegression, Ridge,Lasso\n",
    "from sklearn.metrics import r2_score, mean_absolute_error, mean_squared_error\n",
    "from sklearn.model_selection import RandomizedSearchCV\n",
    "from catboost import CatBoostRegressor\n",
    "from xgboost import XGBRegressor\n",
    "\n",
    "from sklearn.model_selection import GridSearchCV\n",
    "import warnings"
   ]
  },
  {
   "cell_type": "markdown",
   "id": "e45079ad",
   "metadata": {},
   "source": [
    "#### Import the CSV Data as Pandas DataFrame"
   ]
  },
  {
   "cell_type": "code",
   "execution_count": 14,
   "id": "e11c6255",
   "metadata": {
    "scrolled": true
   },
   "outputs": [],
   "source": [
    "df = pd.read_csv('data/stud.csv')"
   ]
  },
  {
   "cell_type": "markdown",
   "id": "20634923",
   "metadata": {},
   "source": [
    "#### Show Top 5 Records"
   ]
  },
  {
   "cell_type": "code",
   "execution_count": 15,
   "id": "e7e412a2",
   "metadata": {},
   "outputs": [
    {
     "data": {
      "text/html": [
       "<div>\n",
       "<style scoped>\n",
       "    .dataframe tbody tr th:only-of-type {\n",
       "        vertical-align: middle;\n",
       "    }\n",
       "\n",
       "    .dataframe tbody tr th {\n",
       "        vertical-align: top;\n",
       "    }\n",
       "\n",
       "    .dataframe thead th {\n",
       "        text-align: right;\n",
       "    }\n",
       "</style>\n",
       "<table border=\"1\" class=\"dataframe\">\n",
       "  <thead>\n",
       "    <tr style=\"text-align: right;\">\n",
       "      <th></th>\n",
       "      <th>gender</th>\n",
       "      <th>race_ethnicity</th>\n",
       "      <th>parental_level_of_education</th>\n",
       "      <th>lunch</th>\n",
       "      <th>test_preparation_course</th>\n",
       "      <th>math_score</th>\n",
       "      <th>reading_score</th>\n",
       "      <th>writing_score</th>\n",
       "    </tr>\n",
       "  </thead>\n",
       "  <tbody>\n",
       "    <tr>\n",
       "      <th>0</th>\n",
       "      <td>female</td>\n",
       "      <td>group B</td>\n",
       "      <td>bachelor's degree</td>\n",
       "      <td>standard</td>\n",
       "      <td>none</td>\n",
       "      <td>72</td>\n",
       "      <td>72</td>\n",
       "      <td>74</td>\n",
       "    </tr>\n",
       "    <tr>\n",
       "      <th>1</th>\n",
       "      <td>female</td>\n",
       "      <td>group C</td>\n",
       "      <td>some college</td>\n",
       "      <td>standard</td>\n",
       "      <td>completed</td>\n",
       "      <td>69</td>\n",
       "      <td>90</td>\n",
       "      <td>88</td>\n",
       "    </tr>\n",
       "    <tr>\n",
       "      <th>2</th>\n",
       "      <td>female</td>\n",
       "      <td>group B</td>\n",
       "      <td>master's degree</td>\n",
       "      <td>standard</td>\n",
       "      <td>none</td>\n",
       "      <td>90</td>\n",
       "      <td>95</td>\n",
       "      <td>93</td>\n",
       "    </tr>\n",
       "    <tr>\n",
       "      <th>3</th>\n",
       "      <td>male</td>\n",
       "      <td>group A</td>\n",
       "      <td>associate's degree</td>\n",
       "      <td>free/reduced</td>\n",
       "      <td>none</td>\n",
       "      <td>47</td>\n",
       "      <td>57</td>\n",
       "      <td>44</td>\n",
       "    </tr>\n",
       "    <tr>\n",
       "      <th>4</th>\n",
       "      <td>male</td>\n",
       "      <td>group C</td>\n",
       "      <td>some college</td>\n",
       "      <td>standard</td>\n",
       "      <td>none</td>\n",
       "      <td>76</td>\n",
       "      <td>78</td>\n",
       "      <td>75</td>\n",
       "    </tr>\n",
       "  </tbody>\n",
       "</table>\n",
       "</div>"
      ],
      "text/plain": [
       "   gender race_ethnicity parental_level_of_education         lunch  \\\n",
       "0  female        group B           bachelor's degree      standard   \n",
       "1  female        group C                some college      standard   \n",
       "2  female        group B             master's degree      standard   \n",
       "3    male        group A          associate's degree  free/reduced   \n",
       "4    male        group C                some college      standard   \n",
       "\n",
       "  test_preparation_course  math_score  reading_score  writing_score  \n",
       "0                    none          72             72             74  \n",
       "1               completed          69             90             88  \n",
       "2                    none          90             95             93  \n",
       "3                    none          47             57             44  \n",
       "4                    none          76             78             75  "
      ]
     },
     "execution_count": 15,
     "metadata": {},
     "output_type": "execute_result"
    }
   ],
   "source": [
    "df.head(5)"
   ]
  },
  {
   "cell_type": "markdown",
   "id": "fbd32281",
   "metadata": {},
   "source": [
    "#### Adding a Total Score column"
   ]
  },
  {
   "cell_type": "code",
   "execution_count": 19,
   "id": "56d72fde",
   "metadata": {
    "scrolled": false
   },
   "outputs": [],
   "source": [
    "df['Percentage_Score'] = (df['math_score'] + df['writing_score'] + df['reading_score']) / 300 * 100\n",
    "#Round to 2 decimal places \n",
    "df['Percentage_Score'] = df['Percentage_Score'].round(2)\n"
   ]
  },
  {
   "cell_type": "code",
   "execution_count": 22,
   "id": "6da1b26b",
   "metadata": {},
   "outputs": [],
   "source": [
    "df.drop(['math_score','writing_score','reading_score'],axis=1,inplace=True)"
   ]
  },
  {
   "cell_type": "code",
   "execution_count": 23,
   "id": "a643990f",
   "metadata": {
    "scrolled": true
   },
   "outputs": [
    {
     "data": {
      "text/html": [
       "<div>\n",
       "<style scoped>\n",
       "    .dataframe tbody tr th:only-of-type {\n",
       "        vertical-align: middle;\n",
       "    }\n",
       "\n",
       "    .dataframe tbody tr th {\n",
       "        vertical-align: top;\n",
       "    }\n",
       "\n",
       "    .dataframe thead th {\n",
       "        text-align: right;\n",
       "    }\n",
       "</style>\n",
       "<table border=\"1\" class=\"dataframe\">\n",
       "  <thead>\n",
       "    <tr style=\"text-align: right;\">\n",
       "      <th></th>\n",
       "      <th>gender</th>\n",
       "      <th>race_ethnicity</th>\n",
       "      <th>parental_level_of_education</th>\n",
       "      <th>lunch</th>\n",
       "      <th>test_preparation_course</th>\n",
       "      <th>Percentage_Score</th>\n",
       "    </tr>\n",
       "  </thead>\n",
       "  <tbody>\n",
       "    <tr>\n",
       "      <th>0</th>\n",
       "      <td>female</td>\n",
       "      <td>group B</td>\n",
       "      <td>bachelor's degree</td>\n",
       "      <td>standard</td>\n",
       "      <td>none</td>\n",
       "      <td>72.67</td>\n",
       "    </tr>\n",
       "    <tr>\n",
       "      <th>1</th>\n",
       "      <td>female</td>\n",
       "      <td>group C</td>\n",
       "      <td>some college</td>\n",
       "      <td>standard</td>\n",
       "      <td>completed</td>\n",
       "      <td>82.33</td>\n",
       "    </tr>\n",
       "    <tr>\n",
       "      <th>2</th>\n",
       "      <td>female</td>\n",
       "      <td>group B</td>\n",
       "      <td>master's degree</td>\n",
       "      <td>standard</td>\n",
       "      <td>none</td>\n",
       "      <td>92.67</td>\n",
       "    </tr>\n",
       "    <tr>\n",
       "      <th>3</th>\n",
       "      <td>male</td>\n",
       "      <td>group A</td>\n",
       "      <td>associate's degree</td>\n",
       "      <td>free/reduced</td>\n",
       "      <td>none</td>\n",
       "      <td>49.33</td>\n",
       "    </tr>\n",
       "    <tr>\n",
       "      <th>4</th>\n",
       "      <td>male</td>\n",
       "      <td>group C</td>\n",
       "      <td>some college</td>\n",
       "      <td>standard</td>\n",
       "      <td>none</td>\n",
       "      <td>76.33</td>\n",
       "    </tr>\n",
       "  </tbody>\n",
       "</table>\n",
       "</div>"
      ],
      "text/plain": [
       "   gender race_ethnicity parental_level_of_education         lunch  \\\n",
       "0  female        group B           bachelor's degree      standard   \n",
       "1  female        group C                some college      standard   \n",
       "2  female        group B             master's degree      standard   \n",
       "3    male        group A          associate's degree  free/reduced   \n",
       "4    male        group C                some college      standard   \n",
       "\n",
       "  test_preparation_course  Percentage_Score  \n",
       "0                    none             72.67  \n",
       "1               completed             82.33  \n",
       "2                    none             92.67  \n",
       "3                    none             49.33  \n",
       "4                    none             76.33  "
      ]
     },
     "execution_count": 23,
     "metadata": {},
     "output_type": "execute_result"
    }
   ],
   "source": [
    "df.head()"
   ]
  },
  {
   "cell_type": "code",
   "execution_count": 24,
   "id": "f9454302",
   "metadata": {},
   "outputs": [],
   "source": [
    "def assign_grades(percentage_score):\n",
    "    if percentage_score >= 90:\n",
    "        return 'A'\n",
    "    elif percentage_score >= 80:\n",
    "        return 'B'\n",
    "    elif percentage_score >= 70:\n",
    "        return 'C'\n",
    "    elif percentage_score >= 60:\n",
    "        return 'D'\n",
    "    elif percentage_score >= 50:\n",
    "        return 'E'\n",
    "    else:\n",
    "        return 'F'\n",
    "\n",
    "def add_grades_column(df):\n",
    "    df['Grades'] = df['Percentage_Score'].apply(assign_grades)\n",
    "    return df\n"
   ]
  },
  {
   "cell_type": "code",
   "execution_count": 26,
   "id": "428b766d",
   "metadata": {},
   "outputs": [],
   "source": [
    "df = add_grades_column(df) "
   ]
  },
  {
   "cell_type": "code",
   "execution_count": 30,
   "id": "324972b6",
   "metadata": {},
   "outputs": [
    {
     "data": {
      "text/html": [
       "<div>\n",
       "<style scoped>\n",
       "    .dataframe tbody tr th:only-of-type {\n",
       "        vertical-align: middle;\n",
       "    }\n",
       "\n",
       "    .dataframe tbody tr th {\n",
       "        vertical-align: top;\n",
       "    }\n",
       "\n",
       "    .dataframe thead th {\n",
       "        text-align: right;\n",
       "    }\n",
       "</style>\n",
       "<table border=\"1\" class=\"dataframe\">\n",
       "  <thead>\n",
       "    <tr style=\"text-align: right;\">\n",
       "      <th></th>\n",
       "      <th>gender</th>\n",
       "      <th>race_ethnicity</th>\n",
       "      <th>parental_level_of_education</th>\n",
       "      <th>lunch</th>\n",
       "      <th>test_preparation_course</th>\n",
       "      <th>Percentage_Score</th>\n",
       "      <th>Grades</th>\n",
       "    </tr>\n",
       "  </thead>\n",
       "  <tbody>\n",
       "    <tr>\n",
       "      <th>0</th>\n",
       "      <td>female</td>\n",
       "      <td>group B</td>\n",
       "      <td>bachelor's degree</td>\n",
       "      <td>standard</td>\n",
       "      <td>none</td>\n",
       "      <td>72.67</td>\n",
       "      <td>C</td>\n",
       "    </tr>\n",
       "    <tr>\n",
       "      <th>1</th>\n",
       "      <td>female</td>\n",
       "      <td>group C</td>\n",
       "      <td>some college</td>\n",
       "      <td>standard</td>\n",
       "      <td>completed</td>\n",
       "      <td>82.33</td>\n",
       "      <td>B</td>\n",
       "    </tr>\n",
       "    <tr>\n",
       "      <th>2</th>\n",
       "      <td>female</td>\n",
       "      <td>group B</td>\n",
       "      <td>master's degree</td>\n",
       "      <td>standard</td>\n",
       "      <td>none</td>\n",
       "      <td>92.67</td>\n",
       "      <td>A</td>\n",
       "    </tr>\n",
       "    <tr>\n",
       "      <th>3</th>\n",
       "      <td>male</td>\n",
       "      <td>group A</td>\n",
       "      <td>associate's degree</td>\n",
       "      <td>free/reduced</td>\n",
       "      <td>none</td>\n",
       "      <td>49.33</td>\n",
       "      <td>F</td>\n",
       "    </tr>\n",
       "    <tr>\n",
       "      <th>4</th>\n",
       "      <td>male</td>\n",
       "      <td>group C</td>\n",
       "      <td>some college</td>\n",
       "      <td>standard</td>\n",
       "      <td>none</td>\n",
       "      <td>76.33</td>\n",
       "      <td>C</td>\n",
       "    </tr>\n",
       "    <tr>\n",
       "      <th>...</th>\n",
       "      <td>...</td>\n",
       "      <td>...</td>\n",
       "      <td>...</td>\n",
       "      <td>...</td>\n",
       "      <td>...</td>\n",
       "      <td>...</td>\n",
       "      <td>...</td>\n",
       "    </tr>\n",
       "    <tr>\n",
       "      <th>995</th>\n",
       "      <td>female</td>\n",
       "      <td>group E</td>\n",
       "      <td>master's degree</td>\n",
       "      <td>standard</td>\n",
       "      <td>completed</td>\n",
       "      <td>94.00</td>\n",
       "      <td>A</td>\n",
       "    </tr>\n",
       "    <tr>\n",
       "      <th>996</th>\n",
       "      <td>male</td>\n",
       "      <td>group C</td>\n",
       "      <td>high school</td>\n",
       "      <td>free/reduced</td>\n",
       "      <td>none</td>\n",
       "      <td>57.33</td>\n",
       "      <td>E</td>\n",
       "    </tr>\n",
       "    <tr>\n",
       "      <th>997</th>\n",
       "      <td>female</td>\n",
       "      <td>group C</td>\n",
       "      <td>high school</td>\n",
       "      <td>free/reduced</td>\n",
       "      <td>completed</td>\n",
       "      <td>65.00</td>\n",
       "      <td>D</td>\n",
       "    </tr>\n",
       "    <tr>\n",
       "      <th>998</th>\n",
       "      <td>female</td>\n",
       "      <td>group D</td>\n",
       "      <td>some college</td>\n",
       "      <td>standard</td>\n",
       "      <td>completed</td>\n",
       "      <td>74.33</td>\n",
       "      <td>C</td>\n",
       "    </tr>\n",
       "    <tr>\n",
       "      <th>999</th>\n",
       "      <td>female</td>\n",
       "      <td>group D</td>\n",
       "      <td>some college</td>\n",
       "      <td>free/reduced</td>\n",
       "      <td>none</td>\n",
       "      <td>83.00</td>\n",
       "      <td>B</td>\n",
       "    </tr>\n",
       "  </tbody>\n",
       "</table>\n",
       "<p>1000 rows × 7 columns</p>\n",
       "</div>"
      ],
      "text/plain": [
       "     gender race_ethnicity parental_level_of_education         lunch  \\\n",
       "0    female        group B           bachelor's degree      standard   \n",
       "1    female        group C                some college      standard   \n",
       "2    female        group B             master's degree      standard   \n",
       "3      male        group A          associate's degree  free/reduced   \n",
       "4      male        group C                some college      standard   \n",
       "..      ...            ...                         ...           ...   \n",
       "995  female        group E             master's degree      standard   \n",
       "996    male        group C                 high school  free/reduced   \n",
       "997  female        group C                 high school  free/reduced   \n",
       "998  female        group D                some college      standard   \n",
       "999  female        group D                some college  free/reduced   \n",
       "\n",
       "    test_preparation_course  Percentage_Score Grades  \n",
       "0                      none             72.67      C  \n",
       "1                 completed             82.33      B  \n",
       "2                      none             92.67      A  \n",
       "3                      none             49.33      F  \n",
       "4                      none             76.33      C  \n",
       "..                      ...               ...    ...  \n",
       "995               completed             94.00      A  \n",
       "996                    none             57.33      E  \n",
       "997               completed             65.00      D  \n",
       "998               completed             74.33      C  \n",
       "999                    none             83.00      B  \n",
       "\n",
       "[1000 rows x 7 columns]"
      ]
     },
     "execution_count": 30,
     "metadata": {},
     "output_type": "execute_result"
    }
   ],
   "source": [
    "df"
   ]
  },
  {
   "cell_type": "code",
   "execution_count": 100,
   "id": "f53c6c02",
   "metadata": {},
   "outputs": [
    {
     "data": {
      "text/plain": [
       "<matplotlib.legend.Legend at 0x27778202e60>"
      ]
     },
     "execution_count": 100,
     "metadata": {},
     "output_type": "execute_result"
    },
    {
     "data": {
      "image/png": "[encoded data removed]",
      "text/plain": [
       "<Figure size 640x480 with 1 Axes>"
      ]
     },
     "metadata": {},
     "output_type": "display_data"
    }
   ],
   "source": [
    "ax = sns.countplot(data=df,x=df['Grades'].sort_values())\n",
    "\n",
    "\n",
    "legend_labels = {\n",
    "    'A': '90-100',\n",
    "    'B': '80-89',\n",
    "    'C': '70-79',\n",
    "    'D': '60-69',\n",
    "    'E': '50-59',\n",
    "    'F': '0-49'\n",
    "}\n",
    "\n",
    "labels = [legend_labels[label.get_text()] for label in ax.get_xticklabels()]\n",
    "\n",
    "plt.legend(ax.patches, labels)\n"
   ]
  },
  {
   "cell_type": "code",
   "execution_count": 103,
   "id": "cd613177",
   "metadata": {},
   "outputs": [],
   "source": [
    "X = df.drop(['Percentage_Score','Grades'],axis=1) "
   ]
  },
  {
   "cell_type": "code",
   "execution_count": 105,
   "id": "f03763f7",
   "metadata": {},
   "outputs": [],
   "source": [
    " y = df['Grades']\n",
    "    "
   ]
  },
  {
   "cell_type": "code",
   "execution_count": 106,
   "id": "f237ea14",
   "metadata": {
    "scrolled": true
   },
   "outputs": [
    {
     "name": "stdout",
     "output_type": "stream",
     "text": [
      "Categories in 'gender' variable:      ['female' 'male']\n",
      "Categories in 'race_ethnicity' variable:   ['group B' 'group C' 'group A' 'group D' 'group E']\n",
      "Categories in'parental level of education' variable: [\"bachelor's degree\" 'some college' \"master's degree\" \"associate's degree\"\n",
      " 'high school' 'some high school']\n",
      "Categories in 'lunch' variable:      ['standard' 'free/reduced']\n",
      "Categories in 'test preparation course' variable:      ['none' 'completed']\n"
     ]
    }
   ],
   "source": [
    "print(\"Categories in 'gender' variable:     \",end=\" \" )\n",
    "print(df['gender'].unique())\n",
    "\n",
    "print(\"Categories in 'race_ethnicity' variable:  \",end=\" \")\n",
    "print(df['race_ethnicity'].unique())\n",
    "\n",
    "print(\"Categories in'parental level of education' variable:\",end=\" \" )\n",
    "print(df['parental_level_of_education'].unique())\n",
    "\n",
    "print(\"Categories in 'lunch' variable:     \",end=\" \" )\n",
    "print(df['lunch'].unique())\n",
    "\n",
    "print(\"Categories in 'test preparation course' variable:     \",end=\" \" )\n",
    "print(df['test_preparation_course'].unique())"
   ]
  },
  {
   "cell_type": "markdown",
   "id": "80cf2e24",
   "metadata": {},
   "source": [
    "### Handling Categorical Features"
   ]
  },
  {
   "cell_type": "code",
   "execution_count": 107,
   "id": "cb517ffd",
   "metadata": {},
   "outputs": [],
   "source": [
    "import category_encoders as ce\n",
    "from sklearn.preprocessing import OneHotEncoder, StandardScaler\n",
    "from sklearn.compose import ColumnTransformer"
   ]
  },
  {
   "cell_type": "code",
   "execution_count": 108,
   "id": "36c78964",
   "metadata": {},
   "outputs": [],
   "source": [
    "gen = pd.get_dummies(X,drop_first= True)"
   ]
  },
  {
   "cell_type": "code",
   "execution_count": 109,
   "id": "7b942b3f",
   "metadata": {},
   "outputs": [
    {
     "data": {
      "text/html": [
       "<div>\n",
       "<style scoped>\n",
       "    .dataframe tbody tr th:only-of-type {\n",
       "        vertical-align: middle;\n",
       "    }\n",
       "\n",
       "    .dataframe tbody tr th {\n",
       "        vertical-align: top;\n",
       "    }\n",
       "\n",
       "    .dataframe thead th {\n",
       "        text-align: right;\n",
       "    }\n",
       "</style>\n",
       "<table border=\"1\" class=\"dataframe\">\n",
       "  <thead>\n",
       "    <tr style=\"text-align: right;\">\n",
       "      <th></th>\n",
       "      <th>gender_male</th>\n",
       "      <th>race_ethnicity_group B</th>\n",
       "      <th>race_ethnicity_group C</th>\n",
       "      <th>race_ethnicity_group D</th>\n",
       "      <th>race_ethnicity_group E</th>\n",
       "      <th>parental_level_of_education_bachelor's degree</th>\n",
       "      <th>parental_level_of_education_high school</th>\n",
       "      <th>parental_level_of_education_master's degree</th>\n",
       "      <th>parental_level_of_education_some college</th>\n",
       "      <th>parental_level_of_education_some high school</th>\n",
       "      <th>lunch_standard</th>\n",
       "      <th>test_preparation_course_none</th>\n",
       "    </tr>\n",
       "  </thead>\n",
       "  <tbody>\n",
       "    <tr>\n",
       "      <th>0</th>\n",
       "      <td>0</td>\n",
       "      <td>1</td>\n",
       "      <td>0</td>\n",
       "      <td>0</td>\n",
       "      <td>0</td>\n",
       "      <td>1</td>\n",
       "      <td>0</td>\n",
       "      <td>0</td>\n",
       "      <td>0</td>\n",
       "      <td>0</td>\n",
       "      <td>1</td>\n",
       "      <td>1</td>\n",
       "    </tr>\n",
       "    <tr>\n",
       "      <th>1</th>\n",
       "      <td>0</td>\n",
       "      <td>0</td>\n",
       "      <td>1</td>\n",
       "      <td>0</td>\n",
       "      <td>0</td>\n",
       "      <td>0</td>\n",
       "      <td>0</td>\n",
       "      <td>0</td>\n",
       "      <td>1</td>\n",
       "      <td>0</td>\n",
       "      <td>1</td>\n",
       "      <td>0</td>\n",
       "    </tr>\n",
       "    <tr>\n",
       "      <th>2</th>\n",
       "      <td>0</td>\n",
       "      <td>1</td>\n",
       "      <td>0</td>\n",
       "      <td>0</td>\n",
       "      <td>0</td>\n",
       "      <td>0</td>\n",
       "      <td>0</td>\n",
       "      <td>1</td>\n",
       "      <td>0</td>\n",
       "      <td>0</td>\n",
       "      <td>1</td>\n",
       "      <td>1</td>\n",
       "    </tr>\n",
       "    <tr>\n",
       "      <th>3</th>\n",
       "      <td>1</td>\n",
       "      <td>0</td>\n",
       "      <td>0</td>\n",
       "      <td>0</td>\n",
       "      <td>0</td>\n",
       "      <td>0</td>\n",
       "      <td>0</td>\n",
       "      <td>0</td>\n",
       "      <td>0</td>\n",
       "      <td>0</td>\n",
       "      <td>0</td>\n",
       "      <td>1</td>\n",
       "    </tr>\n",
       "    <tr>\n",
       "      <th>4</th>\n",
       "      <td>1</td>\n",
       "      <td>0</td>\n",
       "      <td>1</td>\n",
       "      <td>0</td>\n",
       "      <td>0</td>\n",
       "      <td>0</td>\n",
       "      <td>0</td>\n",
       "      <td>0</td>\n",
       "      <td>1</td>\n",
       "      <td>0</td>\n",
       "      <td>1</td>\n",
       "      <td>1</td>\n",
       "    </tr>\n",
       "    <tr>\n",
       "      <th>...</th>\n",
       "      <td>...</td>\n",
       "      <td>...</td>\n",
       "      <td>...</td>\n",
       "      <td>...</td>\n",
       "      <td>...</td>\n",
       "      <td>...</td>\n",
       "      <td>...</td>\n",
       "      <td>...</td>\n",
       "      <td>...</td>\n",
       "      <td>...</td>\n",
       "      <td>...</td>\n",
       "      <td>...</td>\n",
       "    </tr>\n",
       "    <tr>\n",
       "      <th>995</th>\n",
       "      <td>0</td>\n",
       "      <td>0</td>\n",
       "      <td>0</td>\n",
       "      <td>0</td>\n",
       "      <td>1</td>\n",
       "      <td>0</td>\n",
       "      <td>0</td>\n",
       "      <td>1</td>\n",
       "      <td>0</td>\n",
       "      <td>0</td>\n",
       "      <td>1</td>\n",
       "      <td>0</td>\n",
       "    </tr>\n",
       "    <tr>\n",
       "      <th>996</th>\n",
       "      <td>1</td>\n",
       "      <td>0</td>\n",
       "      <td>1</td>\n",
       "      <td>0</td>\n",
       "      <td>0</td>\n",
       "      <td>0</td>\n",
       "      <td>1</td>\n",
       "      <td>0</td>\n",
       "      <td>0</td>\n",
       "      <td>0</td>\n",
       "      <td>0</td>\n",
       "      <td>1</td>\n",
       "    </tr>\n",
       "    <tr>\n",
       "      <th>997</th>\n",
       "      <td>0</td>\n",
       "      <td>0</td>\n",
       "      <td>1</td>\n",
       "      <td>0</td>\n",
       "      <td>0</td>\n",
       "      <td>0</td>\n",
       "      <td>1</td>\n",
       "      <td>0</td>\n",
       "      <td>0</td>\n",
       "      <td>0</td>\n",
       "      <td>0</td>\n",
       "      <td>0</td>\n",
       "    </tr>\n",
       "    <tr>\n",
       "      <th>998</th>\n",
       "      <td>0</td>\n",
       "      <td>0</td>\n",
       "      <td>0</td>\n",
       "      <td>1</td>\n",
       "      <td>0</td>\n",
       "      <td>0</td>\n",
       "      <td>0</td>\n",
       "      <td>0</td>\n",
       "      <td>1</td>\n",
       "      <td>0</td>\n",
       "      <td>1</td>\n",
       "      <td>0</td>\n",
       "    </tr>\n",
       "    <tr>\n",
       "      <th>999</th>\n",
       "      <td>0</td>\n",
       "      <td>0</td>\n",
       "      <td>0</td>\n",
       "      <td>1</td>\n",
       "      <td>0</td>\n",
       "      <td>0</td>\n",
       "      <td>0</td>\n",
       "      <td>0</td>\n",
       "      <td>1</td>\n",
       "      <td>0</td>\n",
       "      <td>0</td>\n",
       "      <td>1</td>\n",
       "    </tr>\n",
       "  </tbody>\n",
       "</table>\n",
       "<p>1000 rows × 12 columns</p>\n",
       "</div>"
      ],
      "text/plain": [
       "     gender_male  race_ethnicity_group B  race_ethnicity_group C  \\\n",
       "0              0                       1                       0   \n",
       "1              0                       0                       1   \n",
       "2              0                       1                       0   \n",
       "3              1                       0                       0   \n",
       "4              1                       0                       1   \n",
       "..           ...                     ...                     ...   \n",
       "995            0                       0                       0   \n",
       "996            1                       0                       1   \n",
       "997            0                       0                       1   \n",
       "998            0                       0                       0   \n",
       "999            0                       0                       0   \n",
       "\n",
       "     race_ethnicity_group D  race_ethnicity_group E  \\\n",
       "0                         0                       0   \n",
       "1                         0                       0   \n",
       "2                         0                       0   \n",
       "3                         0                       0   \n",
       "4                         0                       0   \n",
       "..                      ...                     ...   \n",
       "995                       0                       1   \n",
       "996                       0                       0   \n",
       "997                       0                       0   \n",
       "998                       1                       0   \n",
       "999                       1                       0   \n",
       "\n",
       "     parental_level_of_education_bachelor's degree  \\\n",
       "0                                                1   \n",
       "1                                                0   \n",
       "2                                                0   \n",
       "3                                                0   \n",
       "4                                                0   \n",
       "..                                             ...   \n",
       "995                                              0   \n",
       "996                                              0   \n",
       "997                                              0   \n",
       "998                                              0   \n",
       "999                                              0   \n",
       "\n",
       "     parental_level_of_education_high school  \\\n",
       "0                                          0   \n",
       "1                                          0   \n",
       "2                                          0   \n",
       "3                                          0   \n",
       "4                                          0   \n",
       "..                                       ...   \n",
       "995                                        0   \n",
       "996                                        1   \n",
       "997                                        1   \n",
       "998                                        0   \n",
       "999                                        0   \n",
       "\n",
       "     parental_level_of_education_master's degree  \\\n",
       "0                                              0   \n",
       "1                                              0   \n",
       "2                                              1   \n",
       "3                                              0   \n",
       "4                                              0   \n",
       "..                                           ...   \n",
       "995                                            1   \n",
       "996                                            0   \n",
       "997                                            0   \n",
       "998                                            0   \n",
       "999                                            0   \n",
       "\n",
       "     parental_level_of_education_some college  \\\n",
       "0                                           0   \n",
       "1                                           1   \n",
       "2                                           0   \n",
       "3                                           0   \n",
       "4                                           1   \n",
       "..                                        ...   \n",
       "995                                         0   \n",
       "996                                         0   \n",
       "997                                         0   \n",
       "998                                         1   \n",
       "999                                         1   \n",
       "\n",
       "     parental_level_of_education_some high school  lunch_standard  \\\n",
       "0                                               0               1   \n",
       "1                                               0               1   \n",
       "2                                               0               1   \n",
       "3                                               0               0   \n",
       "4                                               0               1   \n",
       "..                                            ...             ...   \n",
       "995                                             0               1   \n",
       "996                                             0               0   \n",
       "997                                             0               0   \n",
       "998                                             0               1   \n",
       "999                                             0               0   \n",
       "\n",
       "     test_preparation_course_none  \n",
       "0                               1  \n",
       "1                               0  \n",
       "2                               1  \n",
       "3                               1  \n",
       "4                               1  \n",
       "..                            ...  \n",
       "995                             0  \n",
       "996                             1  \n",
       "997                             0  \n",
       "998                             0  \n",
       "999                             1  \n",
       "\n",
       "[1000 rows x 12 columns]"
      ]
     },
     "execution_count": 109,
     "metadata": {},
     "output_type": "execute_result"
    }
   ],
   "source": [
    "gen"
   ]
  },
  {
   "cell_type": "code",
   "execution_count": null,
   "id": "0368e4a1",
   "metadata": {},
   "outputs": [],
   "source": []
  },
  {
   "cell_type": "markdown",
   "id": "f06bd3d7",
   "metadata": {},
   "source": [
    "## Mutual Info and F Score when target is average score"
   ]
  },
  {
   "cell_type": "code",
   "execution_count": 111,
   "id": "b6baa69c",
   "metadata": {},
   "outputs": [],
   "source": [
    "from sklearn.feature_selection import mutual_info_regression"
   ]
  },
  {
   "cell_type": "code",
   "execution_count": 15,
   "id": "c3e2cfd5",
   "metadata": {},
   "outputs": [],
   "source": [
    "\n",
    "categorical_features = gen.columns\n",
    "numerical_feature = 'average'\n",
    "\n",
    "mi_scores = []\n",
    "for feature in categorical_features:\n",
    "    mi_score = mutual_info_regression(gen[[feature]],y)\n",
    "    mi_scores.append(mi_score[0])\n",
    "\n",
    "\n",
    "mi_df = pd.DataFrame({'Feature': categorical_features, 'MI Score': mi_scores}).sort_values(by='MI Score', ascending=False)"
   ]
  },
  {
   "cell_type": "code",
   "execution_count": 16,
   "id": "3da3f257",
   "metadata": {
    "scrolled": true
   },
   "outputs": [
    {
     "data": {
      "text/html": [
       "<div>\n",
       "<style scoped>\n",
       "    .dataframe tbody tr th:only-of-type {\n",
       "        vertical-align: middle;\n",
       "    }\n",
       "\n",
       "    .dataframe tbody tr th {\n",
       "        vertical-align: top;\n",
       "    }\n",
       "\n",
       "    .dataframe thead th {\n",
       "        text-align: right;\n",
       "    }\n",
       "</style>\n",
       "<table border=\"1\" class=\"dataframe\">\n",
       "  <thead>\n",
       "    <tr style=\"text-align: right;\">\n",
       "      <th></th>\n",
       "      <th>Feature</th>\n",
       "      <th>MI Score</th>\n",
       "    </tr>\n",
       "  </thead>\n",
       "  <tbody>\n",
       "    <tr>\n",
       "      <th>10</th>\n",
       "      <td>lunch_standard</td>\n",
       "      <td>0.094687</td>\n",
       "    </tr>\n",
       "    <tr>\n",
       "      <th>11</th>\n",
       "      <td>test_preparation_course_none</td>\n",
       "      <td>0.045800</td>\n",
       "    </tr>\n",
       "    <tr>\n",
       "      <th>5</th>\n",
       "      <td>parental_level_of_education_bachelor's degree</td>\n",
       "      <td>0.017143</td>\n",
       "    </tr>\n",
       "    <tr>\n",
       "      <th>8</th>\n",
       "      <td>parental_level_of_education_some college</td>\n",
       "      <td>0.011621</td>\n",
       "    </tr>\n",
       "    <tr>\n",
       "      <th>4</th>\n",
       "      <td>race_ethnicity_group E</td>\n",
       "      <td>0.005625</td>\n",
       "    </tr>\n",
       "    <tr>\n",
       "      <th>6</th>\n",
       "      <td>parental_level_of_education_high school</td>\n",
       "      <td>0.005353</td>\n",
       "    </tr>\n",
       "    <tr>\n",
       "      <th>3</th>\n",
       "      <td>race_ethnicity_group D</td>\n",
       "      <td>0.003467</td>\n",
       "    </tr>\n",
       "    <tr>\n",
       "      <th>7</th>\n",
       "      <td>parental_level_of_education_master's degree</td>\n",
       "      <td>0.001253</td>\n",
       "    </tr>\n",
       "    <tr>\n",
       "      <th>1</th>\n",
       "      <td>race_ethnicity_group B</td>\n",
       "      <td>0.000390</td>\n",
       "    </tr>\n",
       "    <tr>\n",
       "      <th>0</th>\n",
       "      <td>gender_male</td>\n",
       "      <td>0.000000</td>\n",
       "    </tr>\n",
       "    <tr>\n",
       "      <th>2</th>\n",
       "      <td>race_ethnicity_group C</td>\n",
       "      <td>0.000000</td>\n",
       "    </tr>\n",
       "    <tr>\n",
       "      <th>9</th>\n",
       "      <td>parental_level_of_education_some high school</td>\n",
       "      <td>0.000000</td>\n",
       "    </tr>\n",
       "  </tbody>\n",
       "</table>\n",
       "</div>"
      ],
      "text/plain": [
       "                                          Feature  MI Score\n",
       "10                                 lunch_standard  0.094687\n",
       "11                   test_preparation_course_none  0.045800\n",
       "5   parental_level_of_education_bachelor's degree  0.017143\n",
       "8        parental_level_of_education_some college  0.011621\n",
       "4                          race_ethnicity_group E  0.005625\n",
       "6         parental_level_of_education_high school  0.005353\n",
       "3                          race_ethnicity_group D  0.003467\n",
       "7     parental_level_of_education_master's degree  0.001253\n",
       "1                          race_ethnicity_group B  0.000390\n",
       "0                                     gender_male  0.000000\n",
       "2                          race_ethnicity_group C  0.000000\n",
       "9    parental_level_of_education_some high school  0.000000"
      ]
     },
     "execution_count": 16,
     "metadata": {},
     "output_type": "execute_result"
    }
   ],
   "source": [
    "mi_df"
   ]
  },
  {
   "cell_type": "code",
   "execution_count": 17,
   "id": "8d8bbffe",
   "metadata": {},
   "outputs": [
    {
     "data": {
      "text/plain": [
       "<BarContainer object of 12 artists>"
      ]
     },
     "execution_count": 17,
     "metadata": {},
     "output_type": "execute_result"
    },
    {
     "data": {
      "image/png": "[encoded data removed]",
      "text/plain": [
       "<Figure size 640x480 with 1 Axes>"
      ]
     },
     "metadata": {},
     "output_type": "display_data"
    }
   ],
   "source": [
    "plt.barh(mi_df['Feature'], mi_df['MI Score'])"
   ]
  },
  {
   "cell_type": "markdown",
   "id": "2bd11630",
   "metadata": {},
   "source": [
    "#### Lunch Standard has highest Mutual Information with Average Score"
   ]
  },
  {
   "cell_type": "code",
   "execution_count": 18,
   "id": "aadd9b4b",
   "metadata": {},
   "outputs": [],
   "source": [
    "from sklearn.feature_selection import f_classif"
   ]
  },
  {
   "cell_type": "code",
   "execution_count": 19,
   "id": "eba60ca2",
   "metadata": {},
   "outputs": [],
   "source": [
    "f_scores, p_values = f_classif(gen, y)\n"
   ]
  },
  {
   "cell_type": "code",
   "execution_count": 25,
   "id": "4f786490",
   "metadata": {},
   "outputs": [],
   "source": [
    "Data = []\n",
    "for feature_name, f_score, p_value in zip(gen.columns, f_scores, p_values):\n",
    "    Data.append({'Feature':feature_name,'f_score':f_score,'p value' :p_value})"
   ]
  },
  {
   "cell_type": "code",
   "execution_count": 30,
   "id": "94855694",
   "metadata": {},
   "outputs": [],
   "source": [
    "DataDf = pd.DataFrame(Data).sort_values(by = 'f_score',ascending=False)"
   ]
  },
  {
   "cell_type": "code",
   "execution_count": 31,
   "id": "5fca308a",
   "metadata": {},
   "outputs": [
    {
     "data": {
      "text/html": [
       "<div>\n",
       "<style scoped>\n",
       "    .dataframe tbody tr th:only-of-type {\n",
       "        vertical-align: middle;\n",
       "    }\n",
       "\n",
       "    .dataframe tbody tr th {\n",
       "        vertical-align: top;\n",
       "    }\n",
       "\n",
       "    .dataframe thead th {\n",
       "        text-align: right;\n",
       "    }\n",
       "</style>\n",
       "<table border=\"1\" class=\"dataframe\">\n",
       "  <thead>\n",
       "    <tr style=\"text-align: right;\">\n",
       "      <th></th>\n",
       "      <th>Feature</th>\n",
       "      <th>f_score</th>\n",
       "      <th>p value</th>\n",
       "    </tr>\n",
       "  </thead>\n",
       "  <tbody>\n",
       "    <tr>\n",
       "      <th>10</th>\n",
       "      <td>lunch_standard</td>\n",
       "      <td>1.499200</td>\n",
       "      <td>0.000092</td>\n",
       "    </tr>\n",
       "    <tr>\n",
       "      <th>11</th>\n",
       "      <td>test_preparation_course_none</td>\n",
       "      <td>1.299390</td>\n",
       "      <td>0.008336</td>\n",
       "    </tr>\n",
       "    <tr>\n",
       "      <th>1</th>\n",
       "      <td>race_ethnicity_group B</td>\n",
       "      <td>1.183359</td>\n",
       "      <td>0.062614</td>\n",
       "    </tr>\n",
       "    <tr>\n",
       "      <th>4</th>\n",
       "      <td>race_ethnicity_group E</td>\n",
       "      <td>1.158647</td>\n",
       "      <td>0.089938</td>\n",
       "    </tr>\n",
       "    <tr>\n",
       "      <th>6</th>\n",
       "      <td>parental_level_of_education_high school</td>\n",
       "      <td>1.150393</td>\n",
       "      <td>0.100933</td>\n",
       "    </tr>\n",
       "    <tr>\n",
       "      <th>8</th>\n",
       "      <td>parental_level_of_education_some college</td>\n",
       "      <td>1.106596</td>\n",
       "      <td>0.177331</td>\n",
       "    </tr>\n",
       "    <tr>\n",
       "      <th>9</th>\n",
       "      <td>parental_level_of_education_some high school</td>\n",
       "      <td>1.059739</td>\n",
       "      <td>0.295333</td>\n",
       "    </tr>\n",
       "    <tr>\n",
       "      <th>5</th>\n",
       "      <td>parental_level_of_education_bachelor's degree</td>\n",
       "      <td>1.044816</td>\n",
       "      <td>0.340350</td>\n",
       "    </tr>\n",
       "    <tr>\n",
       "      <th>0</th>\n",
       "      <td>gender_male</td>\n",
       "      <td>1.027161</td>\n",
       "      <td>0.397375</td>\n",
       "    </tr>\n",
       "    <tr>\n",
       "      <th>3</th>\n",
       "      <td>race_ethnicity_group D</td>\n",
       "      <td>1.021293</td>\n",
       "      <td>0.417075</td>\n",
       "    </tr>\n",
       "    <tr>\n",
       "      <th>2</th>\n",
       "      <td>race_ethnicity_group C</td>\n",
       "      <td>0.913974</td>\n",
       "      <td>0.777182</td>\n",
       "    </tr>\n",
       "    <tr>\n",
       "      <th>7</th>\n",
       "      <td>parental_level_of_education_master's degree</td>\n",
       "      <td>0.814795</td>\n",
       "      <td>0.959504</td>\n",
       "    </tr>\n",
       "  </tbody>\n",
       "</table>\n",
       "</div>"
      ],
      "text/plain": [
       "                                          Feature   f_score   p value\n",
       "10                                 lunch_standard  1.499200  0.000092\n",
       "11                   test_preparation_course_none  1.299390  0.008336\n",
       "1                          race_ethnicity_group B  1.183359  0.062614\n",
       "4                          race_ethnicity_group E  1.158647  0.089938\n",
       "6         parental_level_of_education_high school  1.150393  0.100933\n",
       "8        parental_level_of_education_some college  1.106596  0.177331\n",
       "9    parental_level_of_education_some high school  1.059739  0.295333\n",
       "5   parental_level_of_education_bachelor's degree  1.044816  0.340350\n",
       "0                                     gender_male  1.027161  0.397375\n",
       "3                          race_ethnicity_group D  1.021293  0.417075\n",
       "2                          race_ethnicity_group C  0.913974  0.777182\n",
       "7     parental_level_of_education_master's degree  0.814795  0.959504"
      ]
     },
     "execution_count": 31,
     "metadata": {},
     "output_type": "execute_result"
    }
   ],
   "source": [
    "DataDf"
   ]
  },
  {
   "cell_type": "code",
   "execution_count": null,
   "id": "fdd92175",
   "metadata": {},
   "outputs": [],
   "source": []
  },
  {
   "cell_type": "markdown",
   "id": "4f80eff2",
   "metadata": {},
   "source": [
    "### Mutual Info and Chi square Score when target is Grades"
   ]
  },
  {
   "cell_type": "code",
   "execution_count": 124,
   "id": "072ca439",
   "metadata": {},
   "outputs": [],
   "source": [
    "from sklearn.feature_selection import mutual_info_classif"
   ]
  },
  {
   "cell_type": "code",
   "execution_count": 125,
   "id": "bdf2b5f0",
   "metadata": {},
   "outputs": [],
   "source": [
    "categorical_features = gen.columns\n",
    "numerical_feature = 'Grades'\n",
    "\n",
    "mi_scores_grades = []\n",
    "for feature in categorical_features:\n",
    "    mi_score = mutual_info_classif(gen[[feature]],y)\n",
    "    mi_scores_grades.append(mi_score[0])\n",
    "\n",
    "\n",
    "mi_df_grades = pd.DataFrame({'Feature': categorical_features, 'MI Score': mi_scores_grades}).sort_values(by='MI Score', ascending=False)"
   ]
  },
  {
   "cell_type": "code",
   "execution_count": 126,
   "id": "cc0ab1c4",
   "metadata": {},
   "outputs": [
    {
     "data": {
      "text/html": [
       "<div>\n",
       "<style scoped>\n",
       "    .dataframe tbody tr th:only-of-type {\n",
       "        vertical-align: middle;\n",
       "    }\n",
       "\n",
       "    .dataframe tbody tr th {\n",
       "        vertical-align: top;\n",
       "    }\n",
       "\n",
       "    .dataframe thead th {\n",
       "        text-align: right;\n",
       "    }\n",
       "</style>\n",
       "<table border=\"1\" class=\"dataframe\">\n",
       "  <thead>\n",
       "    <tr style=\"text-align: right;\">\n",
       "      <th></th>\n",
       "      <th>Feature</th>\n",
       "      <th>MI Score</th>\n",
       "    </tr>\n",
       "  </thead>\n",
       "  <tbody>\n",
       "    <tr>\n",
       "      <th>11</th>\n",
       "      <td>test_preparation_course_none</td>\n",
       "      <td>0.051256</td>\n",
       "    </tr>\n",
       "    <tr>\n",
       "      <th>10</th>\n",
       "      <td>lunch_standard</td>\n",
       "      <td>0.047001</td>\n",
       "    </tr>\n",
       "    <tr>\n",
       "      <th>6</th>\n",
       "      <td>parental_level_of_education_high school</td>\n",
       "      <td>0.032425</td>\n",
       "    </tr>\n",
       "    <tr>\n",
       "      <th>5</th>\n",
       "      <td>parental_level_of_education_bachelor's degree</td>\n",
       "      <td>0.028028</td>\n",
       "    </tr>\n",
       "    <tr>\n",
       "      <th>1</th>\n",
       "      <td>race_ethnicity_group B</td>\n",
       "      <td>0.024167</td>\n",
       "    </tr>\n",
       "    <tr>\n",
       "      <th>8</th>\n",
       "      <td>parental_level_of_education_some college</td>\n",
       "      <td>0.020992</td>\n",
       "    </tr>\n",
       "    <tr>\n",
       "      <th>7</th>\n",
       "      <td>parental_level_of_education_master's degree</td>\n",
       "      <td>0.014092</td>\n",
       "    </tr>\n",
       "    <tr>\n",
       "      <th>4</th>\n",
       "      <td>race_ethnicity_group E</td>\n",
       "      <td>0.011615</td>\n",
       "    </tr>\n",
       "    <tr>\n",
       "      <th>0</th>\n",
       "      <td>gender_male</td>\n",
       "      <td>0.006788</td>\n",
       "    </tr>\n",
       "    <tr>\n",
       "      <th>2</th>\n",
       "      <td>race_ethnicity_group C</td>\n",
       "      <td>0.005004</td>\n",
       "    </tr>\n",
       "    <tr>\n",
       "      <th>3</th>\n",
       "      <td>race_ethnicity_group D</td>\n",
       "      <td>0.004577</td>\n",
       "    </tr>\n",
       "    <tr>\n",
       "      <th>9</th>\n",
       "      <td>parental_level_of_education_some high school</td>\n",
       "      <td>0.000000</td>\n",
       "    </tr>\n",
       "  </tbody>\n",
       "</table>\n",
       "</div>"
      ],
      "text/plain": [
       "                                          Feature  MI Score\n",
       "11                   test_preparation_course_none  0.051256\n",
       "10                                 lunch_standard  0.047001\n",
       "6         parental_level_of_education_high school  0.032425\n",
       "5   parental_level_of_education_bachelor's degree  0.028028\n",
       "1                          race_ethnicity_group B  0.024167\n",
       "8        parental_level_of_education_some college  0.020992\n",
       "7     parental_level_of_education_master's degree  0.014092\n",
       "4                          race_ethnicity_group E  0.011615\n",
       "0                                     gender_male  0.006788\n",
       "2                          race_ethnicity_group C  0.005004\n",
       "3                          race_ethnicity_group D  0.004577\n",
       "9    parental_level_of_education_some high school  0.000000"
      ]
     },
     "execution_count": 126,
     "metadata": {},
     "output_type": "execute_result"
    }
   ],
   "source": [
    "mi_df_grades"
   ]
  },
  {
   "cell_type": "code",
   "execution_count": 127,
   "id": "8ae9f7a5",
   "metadata": {},
   "outputs": [
    {
     "data": {
      "text/plain": [
       "<BarContainer object of 12 artists>"
      ]
     },
     "execution_count": 127,
     "metadata": {},
     "output_type": "execute_result"
    },
    {
     "data": {
      "image/png": "[encoded data removed]",
      "text/plain": [
       "<Figure size 640x480 with 1 Axes>"
      ]
     },
     "metadata": {},
     "output_type": "display_data"
    }
   ],
   "source": [
    "plt.barh(mi_df_grades['Feature'], mi_df_grades['MI Score'])"
   ]
  },
  {
   "cell_type": "code",
   "execution_count": null,
   "id": "a111e723",
   "metadata": {},
   "outputs": [],
   "source": []
  },
  {
   "cell_type": "code",
   "execution_count": 128,
   "id": "7ea83b69",
   "metadata": {},
   "outputs": [],
   "source": [
    "from sklearn.feature_selection import SelectKBest\n",
    "from sklearn.feature_selection import chi2\n"
   ]
  },
  {
   "cell_type": "code",
   "execution_count": 134,
   "id": "1f6df64f",
   "metadata": {},
   "outputs": [],
   "source": [
    "selector = SelectKBest(score_func=chi2, k='all')\n",
    "X_new = selector.fit_transform(gen, y)\n",
    "\n",
    "# Get the p-values and scores\n",
    "p_values = selector.pvalues_\n",
    "scores = selector.scores_\n",
    "\n",
    "# Create a DataFrame to display the results\n",
    "results_df = pd.DataFrame({'Feature': gen.columns, 'Score': scores, 'p-value': p_values})\n",
    "results_df = results_df.sort_values(by='Score', ascending=False)"
   ]
  },
  {
   "cell_type": "code",
   "execution_count": 135,
   "id": "ed6ade10",
   "metadata": {},
   "outputs": [
    {
     "data": {
      "text/html": [
       "<div>\n",
       "<style scoped>\n",
       "    .dataframe tbody tr th:only-of-type {\n",
       "        vertical-align: middle;\n",
       "    }\n",
       "\n",
       "    .dataframe tbody tr th {\n",
       "        vertical-align: top;\n",
       "    }\n",
       "\n",
       "    .dataframe thead th {\n",
       "        text-align: right;\n",
       "    }\n",
       "</style>\n",
       "<table border=\"1\" class=\"dataframe\">\n",
       "  <thead>\n",
       "    <tr style=\"text-align: right;\">\n",
       "      <th></th>\n",
       "      <th>Feature</th>\n",
       "      <th>Score</th>\n",
       "      <th>p-value</th>\n",
       "    </tr>\n",
       "  </thead>\n",
       "  <tbody>\n",
       "    <tr>\n",
       "      <th>10</th>\n",
       "      <td>lunch_standard</td>\n",
       "      <td>28.377626</td>\n",
       "      <td>0.000031</td>\n",
       "    </tr>\n",
       "    <tr>\n",
       "      <th>11</th>\n",
       "      <td>test_preparation_course_none</td>\n",
       "      <td>24.837036</td>\n",
       "      <td>0.000150</td>\n",
       "    </tr>\n",
       "    <tr>\n",
       "      <th>6</th>\n",
       "      <td>parental_level_of_education_high school</td>\n",
       "      <td>21.363695</td>\n",
       "      <td>0.000691</td>\n",
       "    </tr>\n",
       "    <tr>\n",
       "      <th>4</th>\n",
       "      <td>race_ethnicity_group E</td>\n",
       "      <td>19.469523</td>\n",
       "      <td>0.001571</td>\n",
       "    </tr>\n",
       "    <tr>\n",
       "      <th>5</th>\n",
       "      <td>parental_level_of_education_bachelor's degree</td>\n",
       "      <td>13.072047</td>\n",
       "      <td>0.022713</td>\n",
       "    </tr>\n",
       "    <tr>\n",
       "      <th>0</th>\n",
       "      <td>gender_male</td>\n",
       "      <td>12.382077</td>\n",
       "      <td>0.029911</td>\n",
       "    </tr>\n",
       "    <tr>\n",
       "      <th>7</th>\n",
       "      <td>parental_level_of_education_master's degree</td>\n",
       "      <td>11.009090</td>\n",
       "      <td>0.051200</td>\n",
       "    </tr>\n",
       "    <tr>\n",
       "      <th>9</th>\n",
       "      <td>parental_level_of_education_some high school</td>\n",
       "      <td>9.925575</td>\n",
       "      <td>0.077372</td>\n",
       "    </tr>\n",
       "    <tr>\n",
       "      <th>1</th>\n",
       "      <td>race_ethnicity_group B</td>\n",
       "      <td>8.365296</td>\n",
       "      <td>0.137219</td>\n",
       "    </tr>\n",
       "    <tr>\n",
       "      <th>3</th>\n",
       "      <td>race_ethnicity_group D</td>\n",
       "      <td>4.526493</td>\n",
       "      <td>0.476347</td>\n",
       "    </tr>\n",
       "    <tr>\n",
       "      <th>8</th>\n",
       "      <td>parental_level_of_education_some college</td>\n",
       "      <td>3.756126</td>\n",
       "      <td>0.585034</td>\n",
       "    </tr>\n",
       "    <tr>\n",
       "      <th>2</th>\n",
       "      <td>race_ethnicity_group C</td>\n",
       "      <td>2.134359</td>\n",
       "      <td>0.830259</td>\n",
       "    </tr>\n",
       "  </tbody>\n",
       "</table>\n",
       "</div>"
      ],
      "text/plain": [
       "                                          Feature      Score   p-value\n",
       "10                                 lunch_standard  28.377626  0.000031\n",
       "11                   test_preparation_course_none  24.837036  0.000150\n",
       "6         parental_level_of_education_high school  21.363695  0.000691\n",
       "4                          race_ethnicity_group E  19.469523  0.001571\n",
       "5   parental_level_of_education_bachelor's degree  13.072047  0.022713\n",
       "0                                     gender_male  12.382077  0.029911\n",
       "7     parental_level_of_education_master's degree  11.009090  0.051200\n",
       "9    parental_level_of_education_some high school   9.925575  0.077372\n",
       "1                          race_ethnicity_group B   8.365296  0.137219\n",
       "3                          race_ethnicity_group D   4.526493  0.476347\n",
       "8        parental_level_of_education_some college   3.756126  0.585034\n",
       "2                          race_ethnicity_group C   2.134359  0.830259"
      ]
     },
     "execution_count": 135,
     "metadata": {},
     "output_type": "execute_result"
    }
   ],
   "source": [
    "results_df"
   ]
  },
  {
   "cell_type": "markdown",
   "id": "53a9675b",
   "metadata": {},
   "source": [
    "### Similar to MI and the one where average was used"
   ]
  },
  {
   "cell_type": "markdown",
   "id": "8346f9bd",
   "metadata": {},
   "source": [
    "## Handlong categ features again but using target ( average score) encoding for race and parent"
   ]
  },
  {
   "cell_type": "code",
   "execution_count": 72,
   "id": "bf329f48",
   "metadata": {},
   "outputs": [],
   "source": [
    "gen1 = X.copy()"
   ]
  },
  {
   "cell_type": "code",
   "execution_count": 73,
   "id": "3446c514",
   "metadata": {},
   "outputs": [],
   "source": [
    "gen1.drop(['race_ethnicity','parental_level_of_education'],axis=1,inplace= True)"
   ]
  },
  {
   "cell_type": "code",
   "execution_count": 74,
   "id": "822afc9f",
   "metadata": {},
   "outputs": [],
   "source": [
    "from sklearn.preprocessing import LabelEncoder\n",
    "le = LabelEncoder()"
   ]
  },
  {
   "cell_type": "code",
   "execution_count": null,
   "id": "ff5a4bdf",
   "metadata": {},
   "outputs": [],
   "source": []
  },
  {
   "cell_type": "code",
   "execution_count": 75,
   "id": "beda97a2",
   "metadata": {},
   "outputs": [],
   "source": [
    "classes = []\n",
    "for columns in gen1.columns:\n",
    "    gen1[columns] = le.fit_transform(gen1[columns])\n",
    "    classes.append(le.classes_)"
   ]
  },
  {
   "cell_type": "code",
   "execution_count": 76,
   "id": "e10b51fe",
   "metadata": {},
   "outputs": [
    {
     "data": {
      "text/html": [
       "<div>\n",
       "<style scoped>\n",
       "    .dataframe tbody tr th:only-of-type {\n",
       "        vertical-align: middle;\n",
       "    }\n",
       "\n",
       "    .dataframe tbody tr th {\n",
       "        vertical-align: top;\n",
       "    }\n",
       "\n",
       "    .dataframe thead th {\n",
       "        text-align: right;\n",
       "    }\n",
       "</style>\n",
       "<table border=\"1\" class=\"dataframe\">\n",
       "  <thead>\n",
       "    <tr style=\"text-align: right;\">\n",
       "      <th></th>\n",
       "      <th>gender</th>\n",
       "      <th>lunch</th>\n",
       "      <th>test_preparation_course</th>\n",
       "    </tr>\n",
       "  </thead>\n",
       "  <tbody>\n",
       "    <tr>\n",
       "      <th>0</th>\n",
       "      <td>0</td>\n",
       "      <td>1</td>\n",
       "      <td>1</td>\n",
       "    </tr>\n",
       "    <tr>\n",
       "      <th>1</th>\n",
       "      <td>0</td>\n",
       "      <td>1</td>\n",
       "      <td>0</td>\n",
       "    </tr>\n",
       "    <tr>\n",
       "      <th>2</th>\n",
       "      <td>0</td>\n",
       "      <td>1</td>\n",
       "      <td>1</td>\n",
       "    </tr>\n",
       "    <tr>\n",
       "      <th>3</th>\n",
       "      <td>1</td>\n",
       "      <td>0</td>\n",
       "      <td>1</td>\n",
       "    </tr>\n",
       "    <tr>\n",
       "      <th>4</th>\n",
       "      <td>1</td>\n",
       "      <td>1</td>\n",
       "      <td>1</td>\n",
       "    </tr>\n",
       "    <tr>\n",
       "      <th>...</th>\n",
       "      <td>...</td>\n",
       "      <td>...</td>\n",
       "      <td>...</td>\n",
       "    </tr>\n",
       "    <tr>\n",
       "      <th>995</th>\n",
       "      <td>0</td>\n",
       "      <td>1</td>\n",
       "      <td>0</td>\n",
       "    </tr>\n",
       "    <tr>\n",
       "      <th>996</th>\n",
       "      <td>1</td>\n",
       "      <td>0</td>\n",
       "      <td>1</td>\n",
       "    </tr>\n",
       "    <tr>\n",
       "      <th>997</th>\n",
       "      <td>0</td>\n",
       "      <td>0</td>\n",
       "      <td>0</td>\n",
       "    </tr>\n",
       "    <tr>\n",
       "      <th>998</th>\n",
       "      <td>0</td>\n",
       "      <td>1</td>\n",
       "      <td>0</td>\n",
       "    </tr>\n",
       "    <tr>\n",
       "      <th>999</th>\n",
       "      <td>0</td>\n",
       "      <td>0</td>\n",
       "      <td>1</td>\n",
       "    </tr>\n",
       "  </tbody>\n",
       "</table>\n",
       "<p>1000 rows × 3 columns</p>\n",
       "</div>"
      ],
      "text/plain": [
       "     gender  lunch  test_preparation_course\n",
       "0         0      1                        1\n",
       "1         0      1                        0\n",
       "2         0      1                        1\n",
       "3         1      0                        1\n",
       "4         1      1                        1\n",
       "..      ...    ...                      ...\n",
       "995       0      1                        0\n",
       "996       1      0                        1\n",
       "997       0      0                        0\n",
       "998       0      1                        0\n",
       "999       0      0                        1\n",
       "\n",
       "[1000 rows x 3 columns]"
      ]
     },
     "execution_count": 76,
     "metadata": {},
     "output_type": "execute_result"
    }
   ],
   "source": [
    "gen1"
   ]
  },
  {
   "cell_type": "code",
   "execution_count": 77,
   "id": "f346d2fb",
   "metadata": {
    "scrolled": true
   },
   "outputs": [
    {
     "data": {
      "text/plain": [
       "[array(['female', 'male'], dtype=object),\n",
       " array(['free/reduced', 'standard'], dtype=object),\n",
       " array(['completed', 'none'], dtype=object)]"
      ]
     },
     "execution_count": 77,
     "metadata": {},
     "output_type": "execute_result"
    }
   ],
   "source": [
    "classes"
   ]
  },
  {
   "cell_type": "code",
   "execution_count": null,
   "id": "dc4ffb75",
   "metadata": {},
   "outputs": [],
   "source": []
  },
  {
   "cell_type": "code",
   "execution_count": 141,
   "id": "7ee2449a",
   "metadata": {},
   "outputs": [],
   "source": [
    "import category_encoders as ce\n",
    "encoder = ce.TargetEncoder(cols=['race_ethnicity', 'parental_level_of_education'])\n"
   ]
  },
  {
   "cell_type": "code",
   "execution_count": 142,
   "id": "f7f5d09e",
   "metadata": {},
   "outputs": [],
   "source": [
    "df_encoded = encoder.fit_transform(X,y)"
   ]
  },
  {
   "cell_type": "code",
   "execution_count": 156,
   "id": "15ac3e70",
   "metadata": {
    "scrolled": true
   },
   "outputs": [],
   "source": [
    "df_encoded.drop(['gender','lunch','test_preparation_course'],axis=1,inplace=True)"
   ]
  },
  {
   "cell_type": "code",
   "execution_count": 158,
   "id": "1c7b608e",
   "metadata": {},
   "outputs": [],
   "source": [
    "gen1= pd.concat([gen1,df_encoded],axis=1)"
   ]
  },
  {
   "cell_type": "code",
   "execution_count": 165,
   "id": "0a386ab6",
   "metadata": {},
   "outputs": [],
   "source": [
    "Encoded_df_final = gen1.copy()"
   ]
  },
  {
   "cell_type": "code",
   "execution_count": 168,
   "id": "0d11a8c3",
   "metadata": {},
   "outputs": [
    {
     "data": {
      "text/html": [
       "<div>\n",
       "<style scoped>\n",
       "    .dataframe tbody tr th:only-of-type {\n",
       "        vertical-align: middle;\n",
       "    }\n",
       "\n",
       "    .dataframe tbody tr th {\n",
       "        vertical-align: top;\n",
       "    }\n",
       "\n",
       "    .dataframe thead th {\n",
       "        text-align: right;\n",
       "    }\n",
       "</style>\n",
       "<table border=\"1\" class=\"dataframe\">\n",
       "  <thead>\n",
       "    <tr style=\"text-align: right;\">\n",
       "      <th></th>\n",
       "      <th>gender</th>\n",
       "      <th>lunch</th>\n",
       "      <th>test_preparation_course</th>\n",
       "      <th>race_ethnicity</th>\n",
       "      <th>parental_level_of_education</th>\n",
       "    </tr>\n",
       "  </thead>\n",
       "  <tbody>\n",
       "    <tr>\n",
       "      <th>0</th>\n",
       "      <td>0</td>\n",
       "      <td>1</td>\n",
       "      <td>1</td>\n",
       "      <td>65.468421</td>\n",
       "      <td>71.923499</td>\n",
       "    </tr>\n",
       "    <tr>\n",
       "      <th>1</th>\n",
       "      <td>0</td>\n",
       "      <td>1</td>\n",
       "      <td>0</td>\n",
       "      <td>67.131661</td>\n",
       "      <td>68.476401</td>\n",
       "    </tr>\n",
       "    <tr>\n",
       "      <th>2</th>\n",
       "      <td>0</td>\n",
       "      <td>1</td>\n",
       "      <td>1</td>\n",
       "      <td>65.468421</td>\n",
       "      <td>73.483237</td>\n",
       "    </tr>\n",
       "    <tr>\n",
       "      <th>3</th>\n",
       "      <td>1</td>\n",
       "      <td>0</td>\n",
       "      <td>1</td>\n",
       "      <td>62.997320</td>\n",
       "      <td>69.569069</td>\n",
       "    </tr>\n",
       "    <tr>\n",
       "      <th>4</th>\n",
       "      <td>1</td>\n",
       "      <td>1</td>\n",
       "      <td>1</td>\n",
       "      <td>67.131661</td>\n",
       "      <td>68.476401</td>\n",
       "    </tr>\n",
       "  </tbody>\n",
       "</table>\n",
       "</div>"
      ],
      "text/plain": [
       "   gender  lunch  test_preparation_course  race_ethnicity  \\\n",
       "0       0      1                        1       65.468421   \n",
       "1       0      1                        0       67.131661   \n",
       "2       0      1                        1       65.468421   \n",
       "3       1      0                        1       62.997320   \n",
       "4       1      1                        1       67.131661   \n",
       "\n",
       "   parental_level_of_education  \n",
       "0                    71.923499  \n",
       "1                    68.476401  \n",
       "2                    73.483237  \n",
       "3                    69.569069  \n",
       "4                    68.476401  "
      ]
     },
     "execution_count": 168,
     "metadata": {},
     "output_type": "execute_result"
    }
   ],
   "source": [
    "Encoded_df_final.head()"
   ]
  },
  {
   "cell_type": "code",
   "execution_count": 169,
   "id": "fcd81437",
   "metadata": {},
   "outputs": [],
   "source": [
    "\n",
    "MI_ohe_target_scores = []\n",
    "\n",
    "for column in Encoded_df_final.columns:\n",
    "    score = mutual_info_regression(Encoded_df_final[[column]],y)\n",
    "    MI_ohe_target_scores.append(score[0])"
   ]
  },
  {
   "cell_type": "code",
   "execution_count": 170,
   "id": "73ad7848",
   "metadata": {},
   "outputs": [
    {
     "data": {
      "text/plain": [
       "[0.018252574877450023,\n",
       " 0.060438384553270774,\n",
       " 0.05108743632376722,\n",
       " 0.013396637265403744,\n",
       " 0.04223038990206751]"
      ]
     },
     "execution_count": 170,
     "metadata": {},
     "output_type": "execute_result"
    }
   ],
   "source": [
    "MI_ohe_target_scores"
   ]
  },
  {
   "cell_type": "code",
   "execution_count": 171,
   "id": "648e2bbe",
   "metadata": {},
   "outputs": [],
   "source": [
    "MI_EN_df = pd.DataFrame({'Feature': Encoded_df_final.columns, 'MI Score': MI_ohe_target_scores}).sort_values(by='MI Score', ascending=False)"
   ]
  },
  {
   "cell_type": "code",
   "execution_count": 173,
   "id": "96d8221b",
   "metadata": {},
   "outputs": [
    {
     "data": {
      "text/plain": [
       "<BarContainer object of 5 artists>"
      ]
     },
     "execution_count": 173,
     "metadata": {},
     "output_type": "execute_result"
    },
    {
     "data": {
      "image/png": "[encoded data removed]",
      "text/plain": [
       "<Figure size 640x480 with 1 Axes>"
      ]
     },
     "metadata": {},
     "output_type": "display_data"
    }
   ],
   "source": [
    "plt.barh(MI_EN_df['Feature'], MI_EN_df['MI Score'])"
   ]
  },
  {
   "cell_type": "markdown",
   "id": "95d6975e",
   "metadata": {},
   "source": [
    "### Insights :\n",
    "\n",
    "            -We can select lunch, test prep and parental education as our top 3 features.\n",
    "            - Even after segregating average scores as Grades, from chi2 and Mutual information we can see similar results"
   ]
  },
  {
   "cell_type": "code",
   "execution_count": 174,
   "id": "1065b98a",
   "metadata": {},
   "outputs": [],
   "source": [
    "Final_X_df = Encoded_df_final[['lunch','test_preparation_course','parental_level_of_education']]"
   ]
  },
  {
   "cell_type": "code",
   "execution_count": 184,
   "id": "87423574",
   "metadata": {},
   "outputs": [
    {
     "data": {
      "text/plain": [
       "((800, 3), (200, 3))"
      ]
     },
     "execution_count": 184,
     "metadata": {},
     "output_type": "execute_result"
    }
   ],
   "source": [
    "from sklearn.model_selection import train_test_split\n",
    "X_train, X_test, y_train, y_test = train_test_split(Final_X_df,y,test_size=0.2,random_state=42)\n",
    "X_train.shape, X_test.shape"
   ]
  },
  {
   "cell_type": "code",
   "execution_count": null,
   "id": "605f12c0",
   "metadata": {},
   "outputs": [],
   "source": []
  },
  {
   "cell_type": "markdown",
   "id": "4cd80317",
   "metadata": {},
   "source": [
    "#### Create an Evaluate Function to give all metrics after model Training"
   ]
  },
  {
   "cell_type": "code",
   "execution_count": null,
   "id": "ae7759e2",
   "metadata": {},
   "outputs": [],
   "source": []
  },
  {
   "cell_type": "code",
   "execution_count": 186,
   "id": "aaed6ad7",
   "metadata": {},
   "outputs": [],
   "source": [
    "models_params= {\n",
    "                \"Decision Tree\": \n",
    "                            {\n",
    "                            'model_obj' : DecisionTreeRegressor(),\n",
    "                            'params' : {\n",
    "                                                    'criterion':['squared_error', 'friedman_mse', 'absolute_error', 'poisson'],\n",
    "                                                    'max_depth':[5,10,15,20],\n",
    "                                                    'ccp_alpha' :[0.0,0.005,0.01,0.02,0.03]\n",
    "                                                    # 'max_features':['sqrt','log2'],\n",
    "                                                    },\n",
    "                        },\n",
    "                \n",
    "                \"Random Forest\": \n",
    "                            {\n",
    "                            'model_obj' : RandomForestRegressor(),\n",
    "                            'params' : {\n",
    "                                                        'criterion':['squared_error', 'friedman_mse', 'absolute_error', 'poisson'],\n",
    "                                                        'max_features':['sqrt','log2',None],\n",
    "                                                        'n_estimators': [8,16,32,64,128,256]\n",
    "                                                    },\n",
    "                            },\n",
    "\n",
    "                \"Gradient Boosting\": \n",
    "                            {\n",
    "                            'model_obj' : GradientBoostingRegressor(),\n",
    "                            'params' : {\n",
    "                                                        'loss':['squared_error', 'huber', 'absolute_error', 'quantile'],\n",
    "                                                        'learning_rate':[0.1,.01,.05,.001],\n",
    "                                                        'subsample':[0.6,0.7,0.75,0.8,0.85,0.9],\n",
    "                                                        # 'criterion':['squared_error', 'friedman_mse'],\n",
    "                                                        # 'max_features':['auto','sqrt','log2'],\n",
    "                                                        'n_estimators': [8,16,32,64,128,256]\n",
    "                                                        },\n",
    "                            },\n",
    "\n",
    "                \"Linear Regression\":\n",
    "                            {\n",
    "                            'model_obj' : LinearRegression(),\n",
    "                            'params' : {}\n",
    "                            },\n",
    "\n",
    "                \"XGBRegressor\":\n",
    "                            {\n",
    "                            'model_obj' : XGBRegressor(),\n",
    "                            'params' : {\n",
    "                                                        'learning_rate':[.1,.01,.05,.001],\n",
    "                                                        'n_estimators': [8,16,32,64,128,256]\n",
    "                                                    },\n",
    "                            },\n",
    "\n",
    "                \"CatBoosting Regressor\": \n",
    "                            {\n",
    "                            'model_obj' : CatBoostRegressor(verbose=False),\n",
    "                            'params' :     {\n",
    "                                                    'depth': [6,8,10],\n",
    "                                                    'learning_rate': [0.01, 0.05, 0.1],\n",
    "                                                    'iterations': [30, 50, 100]\n",
    "                                                    },\n",
    "                            },\n",
    "\n",
    "                \"AdaBoost Regressor\": \n",
    "                            {\n",
    "                            'model_obj' : AdaBoostRegressor(),\n",
    "                            'params' :     {\n",
    "                                                    'learning_rate':[.1,.01,0.5,.001],\n",
    "                                                    'loss':['linear','square','exponential'],\n",
    "                                                    'n_estimators': [8,16,32,64,128,256]\n",
    "                                                    },\n",
    "                            },\n",
    "                \"Lasso\": \n",
    "                    {\n",
    "                        'model_obj' : Lasso(),\n",
    "                        'params' :{\n",
    "                                            'alpha': [.1,.01,.05,.001,0.0001],\n",
    "                                            'max_iter' : [10000]\n",
    "                                        },\n",
    "                    },\n",
    "\n",
    "                \"Ridge\" : \n",
    "                    {\n",
    "                        'model_obj' : Ridge(),\n",
    "                        'params': {\n",
    "                                            'alpha': [.1,.01,.05,.001,0.0001],\n",
    "                                            'max_iter' : [10000]\n",
    "                                        },\n",
    "                    },\n",
    "\n",
    "                \"KNN\" :\n",
    "                    {\n",
    "                        'model_obj' : KNeighborsRegressor(),\n",
    "                    'params' : {\n",
    "                                    'n_neighbors' : [3,5,8,11,15,20]\n",
    "                                    },\n",
    "                    },\n",
    "                'SVR' :{\n",
    "                        'model_obj' : SVR(),\n",
    "                        'params':{\n",
    "                                        'kernel':['linear', 'poly', 'rbf', 'sigmoid'],\n",
    "                                        'gamma' :['scale','auto'],\n",
    "                                        'C': [0.1,1, 10, 100]\n",
    "                                    },\n",
    "                },\n",
    "                \n",
    "            }"
   ]
  },
  {
   "cell_type": "code",
   "execution_count": 187,
   "id": "c7c96527",
   "metadata": {},
   "outputs": [],
   "source": [
    "def evaluate_models(X_train,y_train,X_test,y_test,models_params):\n",
    "    \n",
    "        report = []\n",
    "\n",
    "        for model_name,m_p in models_params.items():\n",
    "\n",
    "            model = m_p['model_obj']                    # Since models_params has nested dicts, m_p contains model objects and parameters.\n",
    "            params = m_p['params']\n",
    "\n",
    "            gs = GridSearchCV(model,params,cv=4)\n",
    "            gs.fit(X_train,y_train)\n",
    "\n",
    "            model.set_params(**gs.best_params_)         # setting the best parameters for the respective models.\n",
    "            model.fit(X_train,y_train)\n",
    "\n",
    "            y_train_pred = model.predict(X_train)\n",
    "\n",
    "            y_test_pred = model.predict(X_test)\n",
    "\n",
    "            train_model_score = r2_score(y_train,y_train_pred)\n",
    "\n",
    "            test_model_score = r2_score(y_test,y_test_pred)\n",
    "            \n",
    "            Mae = mean_absolute_error(y_test, y_test_pred)\n",
    "\n",
    "            # Calculate MSE\n",
    "            Mse = mean_squared_error(y_test, y_test_pred)\n",
    "            \n",
    "            report.append(\n",
    "                {\n",
    "                'Model_name' : model_name,\n",
    "                'R2_Score_test' : test_model_score,\n",
    "                'R2_Score_train' : train_model_score,\n",
    "                'MAE' : Mae,\n",
    "                'MSE' : Mse,\n",
    "                'Best_Params' : gs.best_params_\n",
    "\n",
    "                }\n",
    "            )\n",
    "\n",
    "        return report"
   ]
  },
  {
   "cell_type": "code",
   "execution_count": 190,
   "id": "3aa48870",
   "metadata": {},
   "outputs": [],
   "source": [
    "model_report = evaluate_models(X_train,y_train,X_test,y_test,models_params)"
   ]
  },
  {
   "cell_type": "code",
   "execution_count": 192,
   "id": "86a5d1f0",
   "metadata": {},
   "outputs": [],
   "source": [
    "report_df = pd.DataFrame(model_report).sort_values(by= 'R2_Score_test',ascending = False)"
   ]
  },
  {
   "cell_type": "code",
   "execution_count": 193,
   "id": "78ec7c73",
   "metadata": {},
   "outputs": [
    {
     "data": {
      "text/html": [
       "<div>\n",
       "<style scoped>\n",
       "    .dataframe tbody tr th:only-of-type {\n",
       "        vertical-align: middle;\n",
       "    }\n",
       "\n",
       "    .dataframe tbody tr th {\n",
       "        vertical-align: top;\n",
       "    }\n",
       "\n",
       "    .dataframe thead th {\n",
       "        text-align: right;\n",
       "    }\n",
       "</style>\n",
       "<table border=\"1\" class=\"dataframe\">\n",
       "  <thead>\n",
       "    <tr style=\"text-align: right;\">\n",
       "      <th></th>\n",
       "      <th>Model_name</th>\n",
       "      <th>R2_Score_test</th>\n",
       "      <th>R2_Score_train</th>\n",
       "      <th>MAE</th>\n",
       "      <th>MSE</th>\n",
       "      <th>Best_Params</th>\n",
       "    </tr>\n",
       "  </thead>\n",
       "  <tbody>\n",
       "    <tr>\n",
       "      <th>7</th>\n",
       "      <td>Lasso</td>\n",
       "      <td>0.158309</td>\n",
       "      <td>0.209730</td>\n",
       "      <td>10.536496</td>\n",
       "      <td>180.430349</td>\n",
       "      <td>{'alpha': 0.01, 'max_iter': 10000}</td>\n",
       "    </tr>\n",
       "    <tr>\n",
       "      <th>8</th>\n",
       "      <td>Ridge</td>\n",
       "      <td>0.158058</td>\n",
       "      <td>0.209735</td>\n",
       "      <td>10.538083</td>\n",
       "      <td>180.484298</td>\n",
       "      <td>{'alpha': 0.1, 'max_iter': 10000}</td>\n",
       "    </tr>\n",
       "    <tr>\n",
       "      <th>3</th>\n",
       "      <td>Linear Regression</td>\n",
       "      <td>0.158020</td>\n",
       "      <td>0.209735</td>\n",
       "      <td>10.538291</td>\n",
       "      <td>180.492268</td>\n",
       "      <td>{}</td>\n",
       "    </tr>\n",
       "    <tr>\n",
       "      <th>0</th>\n",
       "      <td>Decision Tree</td>\n",
       "      <td>0.150429</td>\n",
       "      <td>0.216737</td>\n",
       "      <td>10.669968</td>\n",
       "      <td>182.119603</td>\n",
       "      <td>{'ccp_alpha': 0.005, 'criterion': 'poisson', '...</td>\n",
       "    </tr>\n",
       "    <tr>\n",
       "      <th>10</th>\n",
       "      <td>SVR</td>\n",
       "      <td>0.146003</td>\n",
       "      <td>0.206845</td>\n",
       "      <td>10.635497</td>\n",
       "      <td>183.068308</td>\n",
       "      <td>{'C': 10, 'gamma': 'scale', 'kernel': 'linear'}</td>\n",
       "    </tr>\n",
       "    <tr>\n",
       "      <th>6</th>\n",
       "      <td>AdaBoost Regressor</td>\n",
       "      <td>0.144082</td>\n",
       "      <td>0.217476</td>\n",
       "      <td>10.708512</td>\n",
       "      <td>183.480217</td>\n",
       "      <td>{'learning_rate': 0.5, 'loss': 'exponential', ...</td>\n",
       "    </tr>\n",
       "    <tr>\n",
       "      <th>2</th>\n",
       "      <td>Gradient Boosting</td>\n",
       "      <td>0.137177</td>\n",
       "      <td>0.223157</td>\n",
       "      <td>10.713611</td>\n",
       "      <td>184.960307</td>\n",
       "      <td>{'learning_rate': 0.01, 'loss': 'squared_error...</td>\n",
       "    </tr>\n",
       "    <tr>\n",
       "      <th>5</th>\n",
       "      <td>CatBoosting Regressor</td>\n",
       "      <td>0.136875</td>\n",
       "      <td>0.219113</td>\n",
       "      <td>10.703099</td>\n",
       "      <td>185.025249</td>\n",
       "      <td>{'depth': 6, 'iterations': 50, 'learning_rate'...</td>\n",
       "    </tr>\n",
       "    <tr>\n",
       "      <th>9</th>\n",
       "      <td>KNN</td>\n",
       "      <td>0.127676</td>\n",
       "      <td>0.211881</td>\n",
       "      <td>10.818500</td>\n",
       "      <td>186.997097</td>\n",
       "      <td>{'n_neighbors': 20}</td>\n",
       "    </tr>\n",
       "    <tr>\n",
       "      <th>4</th>\n",
       "      <td>XGBRegressor</td>\n",
       "      <td>0.124432</td>\n",
       "      <td>0.227504</td>\n",
       "      <td>10.764388</td>\n",
       "      <td>187.692556</td>\n",
       "      <td>{'learning_rate': 0.05, 'n_estimators': 128}</td>\n",
       "    </tr>\n",
       "    <tr>\n",
       "      <th>1</th>\n",
       "      <td>Random Forest</td>\n",
       "      <td>0.123493</td>\n",
       "      <td>0.224715</td>\n",
       "      <td>10.740667</td>\n",
       "      <td>187.893884</td>\n",
       "      <td>{'criterion': 'squared_error', 'max_features':...</td>\n",
       "    </tr>\n",
       "  </tbody>\n",
       "</table>\n",
       "</div>"
      ],
      "text/plain": [
       "               Model_name  R2_Score_test  R2_Score_train        MAE  \\\n",
       "7                   Lasso       0.158309        0.209730  10.536496   \n",
       "8                   Ridge       0.158058        0.209735  10.538083   \n",
       "3       Linear Regression       0.158020        0.209735  10.538291   \n",
       "0           Decision Tree       0.150429        0.216737  10.669968   \n",
       "10                    SVR       0.146003        0.206845  10.635497   \n",
       "6      AdaBoost Regressor       0.144082        0.217476  10.708512   \n",
       "2       Gradient Boosting       0.137177        0.223157  10.713611   \n",
       "5   CatBoosting Regressor       0.136875        0.219113  10.703099   \n",
       "9                     KNN       0.127676        0.211881  10.818500   \n",
       "4            XGBRegressor       0.124432        0.227504  10.764388   \n",
       "1           Random Forest       0.123493        0.224715  10.740667   \n",
       "\n",
       "           MSE                                        Best_Params  \n",
       "7   180.430349                 {'alpha': 0.01, 'max_iter': 10000}  \n",
       "8   180.484298                  {'alpha': 0.1, 'max_iter': 10000}  \n",
       "3   180.492268                                                 {}  \n",
       "0   182.119603  {'ccp_alpha': 0.005, 'criterion': 'poisson', '...  \n",
       "10  183.068308    {'C': 10, 'gamma': 'scale', 'kernel': 'linear'}  \n",
       "6   183.480217  {'learning_rate': 0.5, 'loss': 'exponential', ...  \n",
       "2   184.960307  {'learning_rate': 0.01, 'loss': 'squared_error...  \n",
       "5   185.025249  {'depth': 6, 'iterations': 50, 'learning_rate'...  \n",
       "9   186.997097                                {'n_neighbors': 20}  \n",
       "4   187.692556       {'learning_rate': 0.05, 'n_estimators': 128}  \n",
       "1   187.893884  {'criterion': 'squared_error', 'max_features':...  "
      ]
     },
     "execution_count": 193,
     "metadata": {},
     "output_type": "execute_result"
    }
   ],
   "source": [
    "report_df"
   ]
  },
  {
   "cell_type": "code",
   "execution_count": null,
   "id": "1a508c30",
   "metadata": {},
   "outputs": [],
   "source": []
  },
  {
   "cell_type": "code",
   "execution_count": 202,
   "id": "1c721f29",
   "metadata": {
    "scrolled": false
   },
   "outputs": [],
   "source": [
    "corr = pd.concat([gen1,y],axis=1)[['gender','lunch','test_preparation_course','race_ethnicity','parental_level_of_education','average']].corr()"
   ]
  },
  {
   "cell_type": "code",
   "execution_count": null,
   "id": "24c2925c",
   "metadata": {},
   "outputs": [],
   "source": [
    "corr"
   ]
  },
  {
   "cell_type": "code",
   "execution_count": 203,
   "id": "a1821514",
   "metadata": {},
   "outputs": [
    {
     "data": {
      "text/plain": [
       "<Axes: >"
      ]
     },
     "execution_count": 203,
     "metadata": {},
     "output_type": "execute_result"
    },
    {
     "data": {
      "image/png": "[encoded data removed]",
      "text/plain": [
       "<Figure size 640x480 with 2 Axes>"
      ]
     },
     "metadata": {},
     "output_type": "display_data"
    }
   ],
   "source": [
    "sns.heatmap(corr,annot=True)"
   ]
  },
  {
   "cell_type": "code",
   "execution_count": 240,
   "id": "4bcffb12",
   "metadata": {},
   "outputs": [
    {
     "data": {
      "text/html": [
       "<style>#sk-container-id-4 {color: black;background-color: white;}#sk-container-id-4 pre{padding: 0;}#sk-container-id-4 div.sk-toggleable {background-color: white;}#sk-container-id-4 label.sk-toggleable__label {cursor: pointer;display: block;width: 100%;margin-bottom: 0;padding: 0.3em;box-sizing: border-box;text-align: center;}#sk-container-id-4 label.sk-toggleable__label-arrow:before {content: \"▸\";float: left;margin-right: 0.25em;color: #696969;}#sk-container-id-4 label.sk-toggleable__label-arrow:hover:before {color: black;}#sk-container-id-4 div.sk-estimator:hover label.sk-toggleable__label-arrow:before {color: black;}#sk-container-id-4 div.sk-toggleable__content {max-height: 0;max-width: 0;overflow: hidden;text-align: left;background-color: #f0f8ff;}#sk-container-id-4 div.sk-toggleable__content pre {margin: 0.2em;color: black;border-radius: 0.25em;background-color: #f0f8ff;}#sk-container-id-4 input.sk-toggleable__control:checked~div.sk-toggleable__content {max-height: 200px;max-width: 100%;overflow: auto;}#sk-container-id-4 input.sk-toggleable__control:checked~label.sk-toggleable__label-arrow:before {content: \"▾\";}#sk-container-id-4 div.sk-estimator input.sk-toggleable__control:checked~label.sk-toggleable__label {background-color: #d4ebff;}#sk-container-id-4 div.sk-label input.sk-toggleable__control:checked~label.sk-toggleable__label {background-color: #d4ebff;}#sk-container-id-4 input.sk-hidden--visually {border: 0;clip: rect(1px 1px 1px 1px);clip: rect(1px, 1px, 1px, 1px);height: 1px;margin: -1px;overflow: hidden;padding: 0;position: absolute;width: 1px;}#sk-container-id-4 div.sk-estimator {font-family: monospace;background-color: #f0f8ff;border: 1px dotted black;border-radius: 0.25em;box-sizing: border-box;margin-bottom: 0.5em;}#sk-container-id-4 div.sk-estimator:hover {background-color: #d4ebff;}#sk-container-id-4 div.sk-parallel-item::after {content: \"\";width: 100%;border-bottom: 1px solid gray;flex-grow: 1;}#sk-container-id-4 div.sk-label:hover label.sk-toggleable__label {background-color: #d4ebff;}#sk-container-id-4 div.sk-serial::before {content: \"\";position: absolute;border-left: 1px solid gray;box-sizing: border-box;top: 0;bottom: 0;left: 50%;z-index: 0;}#sk-container-id-4 div.sk-serial {display: flex;flex-direction: column;align-items: center;background-color: white;padding-right: 0.2em;padding-left: 0.2em;position: relative;}#sk-container-id-4 div.sk-item {position: relative;z-index: 1;}#sk-container-id-4 div.sk-parallel {display: flex;align-items: stretch;justify-content: center;background-color: white;position: relative;}#sk-container-id-4 div.sk-item::before, #sk-container-id-4 div.sk-parallel-item::before {content: \"\";position: absolute;border-left: 1px solid gray;box-sizing: border-box;top: 0;bottom: 0;left: 50%;z-index: -1;}#sk-container-id-4 div.sk-parallel-item {display: flex;flex-direction: column;z-index: 1;position: relative;background-color: white;}#sk-container-id-4 div.sk-parallel-item:first-child::after {align-self: flex-end;width: 50%;}#sk-container-id-4 div.sk-parallel-item:last-child::after {align-self: flex-start;width: 50%;}#sk-container-id-4 div.sk-parallel-item:only-child::after {width: 0;}#sk-container-id-4 div.sk-dashed-wrapped {border: 1px dashed gray;margin: 0 0.4em 0.5em 0.4em;box-sizing: border-box;padding-bottom: 0.4em;background-color: white;}#sk-container-id-4 div.sk-label label {font-family: monospace;font-weight: bold;display: inline-block;line-height: 1.2em;}#sk-container-id-4 div.sk-label-container {text-align: center;}#sk-container-id-4 div.sk-container {/* jupyter's `normalize.less` sets `[hidden] { display: none; }` but bootstrap.min.css set `[hidden] { display: none !important; }` so we also need the `!important` here to be able to override the default hidden behavior on the sphinx rendered scikit-learn.org. See: https://github.com/scikit-learn/scikit-learn/issues/21755 */display: inline-block !important;position: relative;}#sk-container-id-4 div.sk-text-repr-fallback {display: none;}</style><div id=\"sk-container-id-4\" class=\"sk-top-container\"><div class=\"sk-text-repr-fallback\"><pre>Lasso(alpha=0.01, max_iter=10000)</pre><b>In a Jupyter environment, please rerun this cell to show the HTML representation or trust the notebook. <br />On GitHub, the HTML representation is unable to render, please try loading this page with nbviewer.org.</b></div><div class=\"sk-container\" hidden><div class=\"sk-item\"><div class=\"sk-estimator sk-toggleable\"><input class=\"sk-toggleable__control sk-hidden--visually\" id=\"sk-estimator-id-4\" type=\"checkbox\" checked><label for=\"sk-estimator-id-4\" class=\"sk-toggleable__label sk-toggleable__label-arrow\">Lasso</label><div class=\"sk-toggleable__content\"><pre>Lasso(alpha=0.01, max_iter=10000)</pre></div></div></div></div></div>"
      ],
      "text/plain": [
       "Lasso(alpha=0.01, max_iter=10000)"
      ]
     },
     "execution_count": 240,
     "metadata": {},
     "output_type": "execute_result"
    }
   ],
   "source": [
    "model = Lasso()\n",
    "param = {'alpha': 0.01, 'max_iter': 10000}\n",
    "model.set_params(**param)"
   ]
  },
  {
   "cell_type": "code",
   "execution_count": 234,
   "id": "ec54d026",
   "metadata": {},
   "outputs": [],
   "source": [
    "model.fit(X_train,y_train)\n",
    "pred= model.predict(X_test)"
   ]
  },
  {
   "cell_type": "code",
   "execution_count": null,
   "id": "d5de176c",
   "metadata": {},
   "outputs": [],
   "source": []
  },
  {
   "cell_type": "code",
   "execution_count": 235,
   "id": "47fc9934",
   "metadata": {},
   "outputs": [
    {
     "data": {
      "image/png": "[encoded data removed]",
      "text/plain": [
       "<Figure size 640x480 with 1 Axes>"
      ]
     },
     "metadata": {},
     "output_type": "display_data"
    }
   ],
   "source": [
    "plt.scatter(y_test,pred);\n",
    "plt.xlabel('Actual');\n",
    "plt.ylabel('Predicted');"
   ]
  },
  {
   "cell_type": "code",
   "execution_count": 236,
   "id": "a8be9458",
   "metadata": {
    "scrolled": false
   },
   "outputs": [
    {
     "data": {
      "image/png": "[encoded data removed]",
      "text/plain": [
       "<Figure size 640x480 with 1 Axes>"
      ]
     },
     "metadata": {},
     "output_type": "display_data"
    }
   ],
   "source": [
    "sns.regplot(x=y_test,y=pred,ci=None,color ='red');"
   ]
  },
  {
   "cell_type": "markdown",
   "id": "6bd387ed",
   "metadata": {},
   "source": [
    "## As we can see, the regression fit is not good when we selected the best model ( Lasso)"
   ]
  },
  {
   "cell_type": "code",
   "execution_count": null,
   "id": "bb30ce21",
   "metadata": {},
   "outputs": [],
   "source": []
  },
  {
   "cell_type": "code",
   "execution_count": null,
   "id": "9ba4e736",
   "metadata": {},
   "outputs": [],
   "source": []
  },
  {
   "cell_type": "code",
   "execution_count": null,
   "id": "eaa88985",
   "metadata": {},
   "outputs": [],
   "source": []
  },
  {
   "cell_type": "markdown",
   "id": "2d3e5b3f",
   "metadata": {},
   "source": [
    "# Trying with Classification Models since we have Grades"
   ]
  },
  {
   "cell_type": "code",
   "execution_count": 137,
   "id": "c44b1b28",
   "metadata": {},
   "outputs": [],
   "source": [
    "from sklearn.linear_model import LogisticRegression\n",
    "from sklearn.tree import DecisionTreeClassifier\n",
    "from sklearn.ensemble import RandomForestClassifier, GradientBoostingClassifier, AdaBoostClassifier\n",
    "from xgboost import XGBClassifier\n",
    "from catboost import CatBoostClassifier\n",
    "from sklearn.naive_bayes import GaussianNB\n",
    "from sklearn.neighbors import KNeighborsClassifier\n",
    "from sklearn.svm import SVC\n"
   ]
  },
  {
   "cell_type": "code",
   "execution_count": 213,
   "id": "50929e83",
   "metadata": {},
   "outputs": [],
   "source": [
    "classification_model_params = {\n",
    "    \"Logistic Regression\": {\n",
    "        \"model\": LogisticRegression(),\n",
    "        \"params\": {\n",
    "                \"penalty\": ['l2'],\n",
    "                \"C\": [0.1, 1, 10],\n",
    "                \"solver\": ['newton-cg', 'lbfgs'],\n",
    "                \"multi_class\": ['ovr', 'multinomial']\n",
    "        }\n",
    "    },\n",
    "    \"Decision Tree\": {\n",
    "        \"model\": DecisionTreeClassifier(),\n",
    "        \"params\": {\n",
    "            \"criterion\": ['gini', 'entropy'],\n",
    "            \"max_depth\": [None, 5, 10, 15],\n",
    "\n",
    "        }\n",
    "    },\n",
    "    \"Random Forest\": {\n",
    "        \"model\": RandomForestClassifier(),\n",
    "        \"params\": {\n",
    "            \"n_estimators\": [100, 200, 500],\n",
    "            \"criterion\": ['gini', 'entropy'],\n",
    "            \"max_depth\": [None, 5, 10, 15],\n",
    "\n",
    "        }\n",
    "    },\n",
    "    \n",
    "    \"XGBoost\": {\n",
    "        \"model\": XGBClassifier(),\n",
    "        \"params\": {\n",
    "            \"learning_rate\": [0.01, 0.1,0.5, 1],\n",
    "            \"n_estimators\": [100, 200, 500,1000],\n",
    "            \"max_depth\": [3, 5, 10],\n",
    "            \"min_child_weight\": [1, 5, 10],\n",
    "            \"gamma\": [0, 0.1, 0.2]\n",
    "        }\n",
    "    },\n",
    "    \n",
    "    \"AdaBoost\": {\n",
    "        \"model\": AdaBoostClassifier(),\n",
    "        \"params\": {\n",
    "            \"learning_rate\": [0.01, 0.1, 1],\n",
    "            \"n_estimators\": [50, 100, 200],\n",
    "        }\n",
    "    },\n",
    "    \"Naive Bayes\": {\n",
    "        \"model\": GaussianNB(),\n",
    "        \"params\": {}\n",
    "    },\n",
    "    \"K-Nearest Neighbors\": {\n",
    "        \"model\": KNeighborsClassifier(),\n",
    "        \"params\": {\n",
    "            \"n_neighbors\": [3, 5, 7],\n",
    "            \"weights\": ['uniform', 'distance'],\n",
    "            \"p\": [1, 2]\n",
    "        }\n",
    "    },\n",
    "    \"Support Vector Machine\": {\n",
    "        \"model\": SVC(),\n",
    "        \"params\": {\n",
    "            \"C\": [0.1, 1, 10],\n",
    "            \"kernel\": ['linear', 'poly', 'rbf', 'sigmoid'],\n",
    "            \"gamma\": ['scale', 'auto']\n",
    "        }\n",
    "    },\n",
    "}"
   ]
  },
  {
   "cell_type": "code",
   "execution_count": 142,
   "id": "472e09b9",
   "metadata": {},
   "outputs": [],
   "source": [
    "from sklearn.metrics import accuracy_score, precision_score, recall_score, f1_score, roc_auc_score\n",
    "from sklearn.preprocessing import LabelEncoder"
   ]
  },
  {
   "cell_type": "code",
   "execution_count": 211,
   "id": "4fd53085",
   "metadata": {},
   "outputs": [],
   "source": [
    "\n",
    "\n",
    "def evaluate_models_classification(X_train, y_train, X_test, y_test, classification_model_params):\n",
    "    report_classification = []\n",
    "\n",
    "    label_encoder = LabelEncoder()\n",
    "    y_train_encoded = label_encoder.fit_transform(y_train)\n",
    "    y_test_encoded = label_encoder.transform(y_test)\n",
    "\n",
    "    for model_name, m_p in classification_model_params.items():\n",
    "        model = m_p['model']\n",
    "        params = m_p['params']\n",
    "\n",
    "        gs = GridSearchCV(model, params, cv=4)\n",
    "        gs.fit(X_train, y_train_encoded)\n",
    "\n",
    "        model.set_params(**gs.best_params_)\n",
    "        model.fit(X_train, y_train_encoded)\n",
    "\n",
    "        y_train_pred = model.predict(X_train)\n",
    "        y_test_pred = model.predict(X_test)\n",
    "\n",
    "        y_train_pred_decoded = label_encoder.inverse_transform(y_train_pred)\n",
    "        y_test_pred_decoded = label_encoder.inverse_transform(y_test_pred)\n",
    "\n",
    "        accuracy = accuracy_score(y_test, y_test_pred_decoded)\n",
    "        precision_macro = precision_score(y_test, y_test_pred_decoded, average='macro',zero_division=1)\n",
    "        recall_macro = recall_score(y_test, y_test_pred_decoded, average='macro')\n",
    "        f1_macro = f1_score(y_test, y_test_pred_decoded, average='macro')\n",
    "\n",
    "        report_classification.append({\n",
    "            'Model_name': model_name,\n",
    "            'Accuracy': accuracy,\n",
    "            'Precision (Macro)': precision_macro,\n",
    "            'Recall (Macro)': recall_macro,\n",
    "            'F1-score (Macro)': f1_macro,\n",
    "            'Best_Params': gs.best_params_\n",
    "        })\n",
    "\n",
    "    return report_classification\n"
   ]
  },
  {
   "cell_type": "code",
   "execution_count": null,
   "id": "1bf55212",
   "metadata": {},
   "outputs": [],
   "source": []
  },
  {
   "cell_type": "code",
   "execution_count": 153,
   "id": "c60e2422",
   "metadata": {},
   "outputs": [
    {
     "data": {
      "text/plain": [
       "((800, 12), (200, 12))"
      ]
     },
     "execution_count": 153,
     "metadata": {},
     "output_type": "execute_result"
    }
   ],
   "source": [
    "from sklearn.model_selection import train_test_split\n",
    "X_train_classif, X_test_classif, y_train_classif, y_test_classif = train_test_split(gen,y,test_size=0.2,random_state=42)\n",
    "X_train.shape, X_test.shape"
   ]
  },
  {
   "cell_type": "code",
   "execution_count": 214,
   "id": "709259e1",
   "metadata": {},
   "outputs": [],
   "source": [
    "model_classif_report = evaluate_models_classification(X_train_classif, y_train_classif, X_test_classif, y_test_classif, classification_model_params)"
   ]
  },
  {
   "cell_type": "code",
   "execution_count": 218,
   "id": "a0586612",
   "metadata": {},
   "outputs": [],
   "source": [
    "classif_report_df = pd.DataFrame(model_classif_report).sort_values(by='Accuracy', ascending=False)"
   ]
  },
  {
   "cell_type": "code",
   "execution_count": 221,
   "id": "51831288",
   "metadata": {},
   "outputs": [
    {
     "data": {
      "text/html": [
       "<div>\n",
       "<style scoped>\n",
       "    .dataframe tbody tr th:only-of-type {\n",
       "        vertical-align: middle;\n",
       "    }\n",
       "\n",
       "    .dataframe tbody tr th {\n",
       "        vertical-align: top;\n",
       "    }\n",
       "\n",
       "    .dataframe thead th {\n",
       "        text-align: right;\n",
       "    }\n",
       "</style>\n",
       "<table border=\"1\" class=\"dataframe\">\n",
       "  <thead>\n",
       "    <tr style=\"text-align: right;\">\n",
       "      <th></th>\n",
       "      <th>Model_name</th>\n",
       "      <th>Accuracy</th>\n",
       "      <th>Precision (Macro)</th>\n",
       "      <th>Recall (Macro)</th>\n",
       "      <th>F1-score (Macro)</th>\n",
       "      <th>Best_Params</th>\n",
       "    </tr>\n",
       "  </thead>\n",
       "  <tbody>\n",
       "    <tr>\n",
       "      <th>1</th>\n",
       "      <td>Decision Tree</td>\n",
       "      <td>0.300</td>\n",
       "      <td>0.257319</td>\n",
       "      <td>0.226246</td>\n",
       "      <td>0.228813</td>\n",
       "      <td>{'criterion': 'entropy', 'max_depth': 5}</td>\n",
       "    </tr>\n",
       "    <tr>\n",
       "      <th>0</th>\n",
       "      <td>Logistic Regression</td>\n",
       "      <td>0.295</td>\n",
       "      <td>0.312293</td>\n",
       "      <td>0.196400</td>\n",
       "      <td>0.166692</td>\n",
       "      <td>{'C': 1, 'multi_class': 'multinomial', 'penalt...</td>\n",
       "    </tr>\n",
       "    <tr>\n",
       "      <th>7</th>\n",
       "      <td>Support Vector Machine</td>\n",
       "      <td>0.295</td>\n",
       "      <td>0.768404</td>\n",
       "      <td>0.184793</td>\n",
       "      <td>0.129172</td>\n",
       "      <td>{'C': 1, 'gamma': 'auto', 'kernel': 'sigmoid'}</td>\n",
       "    </tr>\n",
       "    <tr>\n",
       "      <th>2</th>\n",
       "      <td>Random Forest</td>\n",
       "      <td>0.285</td>\n",
       "      <td>0.288338</td>\n",
       "      <td>0.217322</td>\n",
       "      <td>0.208635</td>\n",
       "      <td>{'criterion': 'gini', 'max_depth': 5, 'n_estim...</td>\n",
       "    </tr>\n",
       "    <tr>\n",
       "      <th>4</th>\n",
       "      <td>AdaBoost</td>\n",
       "      <td>0.285</td>\n",
       "      <td>0.626241</td>\n",
       "      <td>0.181712</td>\n",
       "      <td>0.146082</td>\n",
       "      <td>{'learning_rate': 0.1, 'n_estimators': 50}</td>\n",
       "    </tr>\n",
       "    <tr>\n",
       "      <th>5</th>\n",
       "      <td>Naive Bayes</td>\n",
       "      <td>0.280</td>\n",
       "      <td>0.284326</td>\n",
       "      <td>0.310402</td>\n",
       "      <td>0.248841</td>\n",
       "      <td>{}</td>\n",
       "    </tr>\n",
       "    <tr>\n",
       "      <th>3</th>\n",
       "      <td>XGBoost</td>\n",
       "      <td>0.265</td>\n",
       "      <td>0.291474</td>\n",
       "      <td>0.171055</td>\n",
       "      <td>0.143446</td>\n",
       "      <td>{'gamma': 0.1, 'learning_rate': 0.01, 'max_dep...</td>\n",
       "    </tr>\n",
       "    <tr>\n",
       "      <th>6</th>\n",
       "      <td>K-Nearest Neighbors</td>\n",
       "      <td>0.210</td>\n",
       "      <td>0.216568</td>\n",
       "      <td>0.242502</td>\n",
       "      <td>0.195204</td>\n",
       "      <td>{'n_neighbors': 7, 'p': 1, 'weights': 'uniform'}</td>\n",
       "    </tr>\n",
       "  </tbody>\n",
       "</table>\n",
       "</div>"
      ],
      "text/plain": [
       "               Model_name  Accuracy  Precision (Macro)  Recall (Macro)  \\\n",
       "1           Decision Tree     0.300           0.257319        0.226246   \n",
       "0     Logistic Regression     0.295           0.312293        0.196400   \n",
       "7  Support Vector Machine     0.295           0.768404        0.184793   \n",
       "2           Random Forest     0.285           0.288338        0.217322   \n",
       "4                AdaBoost     0.285           0.626241        0.181712   \n",
       "5             Naive Bayes     0.280           0.284326        0.310402   \n",
       "3                 XGBoost     0.265           0.291474        0.171055   \n",
       "6     K-Nearest Neighbors     0.210           0.216568        0.242502   \n",
       "\n",
       "   F1-score (Macro)                                        Best_Params  \n",
       "1          0.228813           {'criterion': 'entropy', 'max_depth': 5}  \n",
       "0          0.166692  {'C': 1, 'multi_class': 'multinomial', 'penalt...  \n",
       "7          0.129172     {'C': 1, 'gamma': 'auto', 'kernel': 'sigmoid'}  \n",
       "2          0.208635  {'criterion': 'gini', 'max_depth': 5, 'n_estim...  \n",
       "4          0.146082         {'learning_rate': 0.1, 'n_estimators': 50}  \n",
       "5          0.248841                                                 {}  \n",
       "3          0.143446  {'gamma': 0.1, 'learning_rate': 0.01, 'max_dep...  \n",
       "6          0.195204   {'n_neighbors': 7, 'p': 1, 'weights': 'uniform'}  "
      ]
     },
     "execution_count": 221,
     "metadata": {},
     "output_type": "execute_result"
    }
   ],
   "source": [
    "classif_report_df"
   ]
  },
  {
   "cell_type": "code",
   "execution_count": null,
   "id": "ca8d8395",
   "metadata": {},
   "outputs": [],
   "source": []
  },
  {
   "cell_type": "code",
   "execution_count": null,
   "id": "45b99c5e",
   "metadata": {},
   "outputs": [],
   "source": []
  },
  {
   "cell_type": "markdown",
   "id": "fd523019",
   "metadata": {},
   "source": [
    "### Confusion matrix for Decision Tree Classifier since it gave highest accuracy"
   ]
  },
  {
   "cell_type": "code",
   "execution_count": 255,
   "id": "06aa4fb3",
   "metadata": {},
   "outputs": [
    {
     "data": {
      "text/html": [
       "<style>#sk-container-id-3 {color: black;background-color: white;}#sk-container-id-3 pre{padding: 0;}#sk-container-id-3 div.sk-toggleable {background-color: white;}#sk-container-id-3 label.sk-toggleable__label {cursor: pointer;display: block;width: 100%;margin-bottom: 0;padding: 0.3em;box-sizing: border-box;text-align: center;}#sk-container-id-3 label.sk-toggleable__label-arrow:before {content: \"▸\";float: left;margin-right: 0.25em;color: #696969;}#sk-container-id-3 label.sk-toggleable__label-arrow:hover:before {color: black;}#sk-container-id-3 div.sk-estimator:hover label.sk-toggleable__label-arrow:before {color: black;}#sk-container-id-3 div.sk-toggleable__content {max-height: 0;max-width: 0;overflow: hidden;text-align: left;background-color: #f0f8ff;}#sk-container-id-3 div.sk-toggleable__content pre {margin: 0.2em;color: black;border-radius: 0.25em;background-color: #f0f8ff;}#sk-container-id-3 input.sk-toggleable__control:checked~div.sk-toggleable__content {max-height: 200px;max-width: 100%;overflow: auto;}#sk-container-id-3 input.sk-toggleable__control:checked~label.sk-toggleable__label-arrow:before {content: \"▾\";}#sk-container-id-3 div.sk-estimator input.sk-toggleable__control:checked~label.sk-toggleable__label {background-color: #d4ebff;}#sk-container-id-3 div.sk-label input.sk-toggleable__control:checked~label.sk-toggleable__label {background-color: #d4ebff;}#sk-container-id-3 input.sk-hidden--visually {border: 0;clip: rect(1px 1px 1px 1px);clip: rect(1px, 1px, 1px, 1px);height: 1px;margin: -1px;overflow: hidden;padding: 0;position: absolute;width: 1px;}#sk-container-id-3 div.sk-estimator {font-family: monospace;background-color: #f0f8ff;border: 1px dotted black;border-radius: 0.25em;box-sizing: border-box;margin-bottom: 0.5em;}#sk-container-id-3 div.sk-estimator:hover {background-color: #d4ebff;}#sk-container-id-3 div.sk-parallel-item::after {content: \"\";width: 100%;border-bottom: 1px solid gray;flex-grow: 1;}#sk-container-id-3 div.sk-label:hover label.sk-toggleable__label {background-color: #d4ebff;}#sk-container-id-3 div.sk-serial::before {content: \"\";position: absolute;border-left: 1px solid gray;box-sizing: border-box;top: 0;bottom: 0;left: 50%;z-index: 0;}#sk-container-id-3 div.sk-serial {display: flex;flex-direction: column;align-items: center;background-color: white;padding-right: 0.2em;padding-left: 0.2em;position: relative;}#sk-container-id-3 div.sk-item {position: relative;z-index: 1;}#sk-container-id-3 div.sk-parallel {display: flex;align-items: stretch;justify-content: center;background-color: white;position: relative;}#sk-container-id-3 div.sk-item::before, #sk-container-id-3 div.sk-parallel-item::before {content: \"\";position: absolute;border-left: 1px solid gray;box-sizing: border-box;top: 0;bottom: 0;left: 50%;z-index: -1;}#sk-container-id-3 div.sk-parallel-item {display: flex;flex-direction: column;z-index: 1;position: relative;background-color: white;}#sk-container-id-3 div.sk-parallel-item:first-child::after {align-self: flex-end;width: 50%;}#sk-container-id-3 div.sk-parallel-item:last-child::after {align-self: flex-start;width: 50%;}#sk-container-id-3 div.sk-parallel-item:only-child::after {width: 0;}#sk-container-id-3 div.sk-dashed-wrapped {border: 1px dashed gray;margin: 0 0.4em 0.5em 0.4em;box-sizing: border-box;padding-bottom: 0.4em;background-color: white;}#sk-container-id-3 div.sk-label label {font-family: monospace;font-weight: bold;display: inline-block;line-height: 1.2em;}#sk-container-id-3 div.sk-label-container {text-align: center;}#sk-container-id-3 div.sk-container {/* jupyter's `normalize.less` sets `[hidden] { display: none; }` but bootstrap.min.css set `[hidden] { display: none !important; }` so we also need the `!important` here to be able to override the default hidden behavior on the sphinx rendered scikit-learn.org. See: https://github.com/scikit-learn/scikit-learn/issues/21755 */display: inline-block !important;position: relative;}#sk-container-id-3 div.sk-text-repr-fallback {display: none;}</style><div id=\"sk-container-id-3\" class=\"sk-top-container\"><div class=\"sk-text-repr-fallback\"><pre>DecisionTreeClassifier(criterion=&#x27;entropy&#x27;, max_depth=5)</pre><b>In a Jupyter environment, please rerun this cell to show the HTML representation or trust the notebook. <br />On GitHub, the HTML representation is unable to render, please try loading this page with nbviewer.org.</b></div><div class=\"sk-container\" hidden><div class=\"sk-item\"><div class=\"sk-estimator sk-toggleable\"><input class=\"sk-toggleable__control sk-hidden--visually\" id=\"sk-estimator-id-3\" type=\"checkbox\" checked><label for=\"sk-estimator-id-3\" class=\"sk-toggleable__label sk-toggleable__label-arrow\">DecisionTreeClassifier</label><div class=\"sk-toggleable__content\"><pre>DecisionTreeClassifier(criterion=&#x27;entropy&#x27;, max_depth=5)</pre></div></div></div></div></div>"
      ],
      "text/plain": [
       "DecisionTreeClassifier(criterion='entropy', max_depth=5)"
      ]
     },
     "execution_count": 255,
     "metadata": {},
     "output_type": "execute_result"
    }
   ],
   "source": [
    "Dt = DecisionTreeClassifier()\n",
    "params = classif_report_df.iloc[0]['Best_Params']\n",
    "Dt.set_params(**params)\n",
    "Dt.fit(X_train_classif, y_train_classif)\n"
   ]
  },
  {
   "cell_type": "code",
   "execution_count": 256,
   "id": "3ae8bae7",
   "metadata": {},
   "outputs": [],
   "source": [
    "dt_pred = Dt.predict(X_test_classif)\n",
    "#confusion_matrix(y_test_classif, dt_pred)\n",
    "cm = confusion_matrix(y_test_classif, dt_pred)"
   ]
  },
  {
   "cell_type": "code",
   "execution_count": 257,
   "id": "e7599bb7",
   "metadata": {},
   "outputs": [
    {
     "data": {
      "text/plain": [
       "<Axes: >"
      ]
     },
     "execution_count": 257,
     "metadata": {},
     "output_type": "execute_result"
    },
    {
     "data": {
      "image/png": "[encoded data removed]",
      "text/plain": [
       "<Figure size 640x480 with 2 Axes>"
      ]
     },
     "metadata": {},
     "output_type": "display_data"
    }
   ],
   "source": [
    "sns.heatmap(cm, annot=True)"
   ]
  },
  {
   "cell_type": "code",
   "execution_count": 235,
   "id": "2a586d9f",
   "metadata": {},
   "outputs": [],
   "source": [
    "NN_gen = gen.copy()"
   ]
  },
  {
   "cell_type": "code",
   "execution_count": 240,
   "id": "fcd530bd",
   "metadata": {},
   "outputs": [],
   "source": [
    "import numpy as np\n",
    "from tensorflow.keras.models import Sequential\n",
    "from tensorflow.keras.layers import Dense\n",
    "from sklearn.preprocessing import LabelEncoder\n",
    "from sklearn.model_selection import KFold\n",
    "from sklearn.metrics import precision_score, accuracy_score"
   ]
  },
  {
   "cell_type": "code",
   "execution_count": 245,
   "id": "08648c50",
   "metadata": {},
   "outputs": [
    {
     "data": {
      "text/plain": [
       "12"
      ]
     },
     "execution_count": 245,
     "metadata": {},
     "output_type": "execute_result"
    }
   ],
   "source": [
    "NN_gen.shape[1]"
   ]
  },
  {
   "cell_type": "code",
   "execution_count": 250,
   "id": "6fd3a318",
   "metadata": {},
   "outputs": [
    {
     "name": "stdout",
     "output_type": "stream",
     "text": [
      "7/7 [==============================] - 0s 2ms/step\n"
     ]
    },
    {
     "name": "stderr",
     "output_type": "stream",
     "text": [
      "C:\\Users\\Swamesh\\anaconda3\\lib\\site-packages\\sklearn\\metrics\\_classification.py:1344: UndefinedMetricWarning: Precision is ill-defined and being set to 0.0 in labels with no predicted samples. Use `zero_division` parameter to control this behavior.\n",
      "  _warn_prf(average, modifier, msg_start, len(result))\n"
     ]
    },
    {
     "name": "stdout",
     "output_type": "stream",
     "text": [
      "7/7 [==============================] - 0s 2ms/step\n",
      "7/7 [==============================] - 0s 3ms/step\n",
      "7/7 [==============================] - 0s 3ms/step\n",
      "7/7 [==============================] - 0s 2ms/step\n"
     ]
    }
   ],
   "source": [
    "\n",
    "\n",
    "# Encode the target variable\n",
    "label_encoder = LabelEncoder()\n",
    "y_encoded = label_encoder.fit_transform(y)\n",
    "\n",
    "# Define the neural network architecture\n",
    "model = Sequential()\n",
    "model.add(Dense(64, activation='relu', input_shape=(NN_gen.shape[1],)))\n",
    "model.add(Dense(64, activation='relu'))\n",
    "model.add(Dense(len(np.unique(y_train_classif)), activation='softmax'))\n",
    "\n",
    "# Compile the model\n",
    "model.compile(loss='sparse_categorical_crossentropy', optimizer='adam')\n",
    "\n",
    "# Perform K-fold cross-validation\n",
    "k = 5  # Number of folds\n",
    "kf = KFold(n_splits=k, shuffle=True, random_state=42)\n",
    "\n",
    "# Lists to store the evaluation metrics\n",
    "precision_values = []\n",
    "accuracy_values = []\n",
    "\n",
    "for train_index, test_index in kf.split(gen):\n",
    "    X_train, X_test = NN_gen.loc[train_index], NN_gen.loc[test_index]\n",
    "    y_train, y_test = y_encoded[train_index], y_encoded[test_index]\n",
    "\n",
    "    # Train the model\n",
    "    model.fit(X_train, y_train, epochs=10, batch_size=32, verbose=0)\n",
    "\n",
    "    # Predict labels for test data\n",
    "    y_pred_probs = model.predict(X_test)\n",
    "    # Convert probabilities to class labels\n",
    "    y_pred = np.argmax(y_pred_probs, axis=1)\n",
    "\n",
    "    # Calculate precision and accuracy\n",
    "    precision = precision_score(y_test, y_pred, average='macro')\n",
    "    accuracy = accuracy_score(y_test, y_pred)\n",
    "\n",
    "    precision_values.append(precision)\n",
    "    accuracy_values.append(accuracy)\n",
    "\n",
    "# Calculate the average metrics\n"
   ]
  },
  {
   "cell_type": "code",
   "execution_count": null,
   "id": "8680ffb5",
   "metadata": {},
   "outputs": [],
   "source": []
  },
  {
   "cell_type": "code",
   "execution_count": 251,
   "id": "88b65744",
   "metadata": {},
   "outputs": [
    {
     "name": "stdout",
     "output_type": "stream",
     "text": [
      "Average Precision: 0.2841738777374429\n",
      "Average Accuracy: 0.31999999999999995\n"
     ]
    }
   ],
   "source": [
    "avg_precision = np.mean(precision_values)\n",
    "avg_accuracy = np.mean(accuracy_values)\n",
    "\n",
    "print('Average Precision:', avg_precision)\n",
    "print('Average Accuracy:', avg_accuracy)\n"
   ]
  },
  {
   "cell_type": "markdown",
   "id": "1aa6267e",
   "metadata": {},
   "source": [
    "## As we can see, classification report does not give good values of accuracy,precision and recall. Even Nerural Network does not perform well"
   ]
  },
  {
   "cell_type": "code",
   "execution_count": null,
   "id": "45935b7a",
   "metadata": {},
   "outputs": [],
   "source": []
  },
  {
   "cell_type": "code",
   "execution_count": null,
   "id": "5ff64747",
   "metadata": {},
   "outputs": [],
   "source": []
  },
  {
   "cell_type": "code",
   "execution_count": null,
   "id": "d33a57d3",
   "metadata": {},
   "outputs": [],
   "source": []
  },
  {
   "cell_type": "code",
   "execution_count": null,
   "id": "95a71f57",
   "metadata": {},
   "outputs": [],
   "source": []
  },
  {
   "cell_type": "code",
   "execution_count": 277,
   "id": "bb53c218",
   "metadata": {},
   "outputs": [],
   "source": [
    "sk = SelectKBest(score_func=chi2, k=5)\n",
    "\n",
    "# Fit and transform the feature matrix\n",
    "gen_sk = sk.fit_transform(gen, y)\n",
    "\n",
    "# Get the scores of the selected features\n",
    "feature_scores = sk.scores_\n",
    "\n",
    "# Get the column names of the selected features\n",
    "feature_names = gen.columns\n",
    "\n",
    "# Create a DataFrame with feature names and scores\n",
    "selected_features_df = pd.DataFrame({'Feature Name': feature_names, 'Score': feature_scores})\n",
    "\n",
    "# Sort the DataFrame by score in descending order\n",
    "selected_features_df = selected_features_df.sort_values('Score', ascending=False)\n",
    "\n",
    "# Reset the index of the DataFrame\n",
    "selected_features_df = selected_features_df.reset_index(drop=True)"
   ]
  },
  {
   "cell_type": "code",
   "execution_count": 278,
   "id": "cea0a957",
   "metadata": {},
   "outputs": [
    {
     "data": {
      "text/html": [
       "<div>\n",
       "<style scoped>\n",
       "    .dataframe tbody tr th:only-of-type {\n",
       "        vertical-align: middle;\n",
       "    }\n",
       "\n",
       "    .dataframe tbody tr th {\n",
       "        vertical-align: top;\n",
       "    }\n",
       "\n",
       "    .dataframe thead th {\n",
       "        text-align: right;\n",
       "    }\n",
       "</style>\n",
       "<table border=\"1\" class=\"dataframe\">\n",
       "  <thead>\n",
       "    <tr style=\"text-align: right;\">\n",
       "      <th></th>\n",
       "      <th>Feature Name</th>\n",
       "      <th>Score</th>\n",
       "    </tr>\n",
       "  </thead>\n",
       "  <tbody>\n",
       "    <tr>\n",
       "      <th>0</th>\n",
       "      <td>lunch_standard</td>\n",
       "      <td>28.377626</td>\n",
       "    </tr>\n",
       "    <tr>\n",
       "      <th>1</th>\n",
       "      <td>test_preparation_course_none</td>\n",
       "      <td>24.837036</td>\n",
       "    </tr>\n",
       "    <tr>\n",
       "      <th>2</th>\n",
       "      <td>parental_level_of_education_high school</td>\n",
       "      <td>21.363695</td>\n",
       "    </tr>\n",
       "    <tr>\n",
       "      <th>3</th>\n",
       "      <td>race_ethnicity_group E</td>\n",
       "      <td>19.469523</td>\n",
       "    </tr>\n",
       "    <tr>\n",
       "      <th>4</th>\n",
       "      <td>parental_level_of_education_bachelor's degree</td>\n",
       "      <td>13.072047</td>\n",
       "    </tr>\n",
       "    <tr>\n",
       "      <th>5</th>\n",
       "      <td>gender_male</td>\n",
       "      <td>12.382077</td>\n",
       "    </tr>\n",
       "    <tr>\n",
       "      <th>6</th>\n",
       "      <td>parental_level_of_education_master's degree</td>\n",
       "      <td>11.009090</td>\n",
       "    </tr>\n",
       "    <tr>\n",
       "      <th>7</th>\n",
       "      <td>parental_level_of_education_some high school</td>\n",
       "      <td>9.925575</td>\n",
       "    </tr>\n",
       "    <tr>\n",
       "      <th>8</th>\n",
       "      <td>race_ethnicity_group B</td>\n",
       "      <td>8.365296</td>\n",
       "    </tr>\n",
       "    <tr>\n",
       "      <th>9</th>\n",
       "      <td>race_ethnicity_group D</td>\n",
       "      <td>4.526493</td>\n",
       "    </tr>\n",
       "    <tr>\n",
       "      <th>10</th>\n",
       "      <td>parental_level_of_education_some college</td>\n",
       "      <td>3.756126</td>\n",
       "    </tr>\n",
       "    <tr>\n",
       "      <th>11</th>\n",
       "      <td>race_ethnicity_group C</td>\n",
       "      <td>2.134359</td>\n",
       "    </tr>\n",
       "  </tbody>\n",
       "</table>\n",
       "</div>"
      ],
      "text/plain": [
       "                                     Feature Name      Score\n",
       "0                                  lunch_standard  28.377626\n",
       "1                    test_preparation_course_none  24.837036\n",
       "2         parental_level_of_education_high school  21.363695\n",
       "3                          race_ethnicity_group E  19.469523\n",
       "4   parental_level_of_education_bachelor's degree  13.072047\n",
       "5                                     gender_male  12.382077\n",
       "6     parental_level_of_education_master's degree  11.009090\n",
       "7    parental_level_of_education_some high school   9.925575\n",
       "8                          race_ethnicity_group B   8.365296\n",
       "9                          race_ethnicity_group D   4.526493\n",
       "10       parental_level_of_education_some college   3.756126\n",
       "11                         race_ethnicity_group C   2.134359"
      ]
     },
     "execution_count": 278,
     "metadata": {},
     "output_type": "execute_result"
    }
   ],
   "source": [
    "selected_features_df"
   ]
  },
  {
   "cell_type": "code",
   "execution_count": null,
   "id": "1764776b",
   "metadata": {},
   "outputs": [],
   "source": []
  }
 ],
 "metadata": {
  "kernelspec": {
   "display_name": "Python 3 (ipykernel)",
   "language": "python",
   "name": "python3"
  },
  "language_info": {
   "codemirror_mode": {
    "name": "ipython",
    "version": 3
   },
   "file_extension": ".py",
   "mimetype": "text/x-python",
   "name": "python",
   "nbconvert_exporter": "python",
   "pygments_lexer": "ipython3",
   "version": "3.10.9"
  }
 },
 "nbformat": 4,
 "nbformat_minor": 5
}
